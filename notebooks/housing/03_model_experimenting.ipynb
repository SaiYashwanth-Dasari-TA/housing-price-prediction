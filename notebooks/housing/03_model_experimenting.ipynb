{
 "cells": [
  {
   "attachments": {},
   "cell_type": "markdown",
   "metadata": {},
   "source": [
    "# Purpose"
   ]
  },
  {
   "attachments": {},
   "cell_type": "markdown",
   "metadata": {},
   "source": [
    "This notebook demonstrates the model experimentation and finalization. It covers EDA, outlier treatment, transformation, training, model evaluation and comparison across models."
   ]
  },
  {
   "attachments": {},
   "cell_type": "markdown",
   "metadata": {},
   "source": [
    "## Imports"
   ]
  },
  {
   "cell_type": "code",
   "execution_count": 123,
   "metadata": {},
   "outputs": [],
   "source": [
    "import os\n",
    "import os.path as op\n",
    "import shutil\n",
    "\n",
    "# standard third party imports\n",
    "import numpy as np\n",
    "import pandas as pd\n",
    "from matplotlib import pyplot as plt\n",
    "from sklearn.pipeline import Pipeline\n",
    "from sklearn.feature_selection import SelectFromModel\n",
    "from sklearn.model_selection import GridSearchCV\n",
    "from sklearn.preprocessing import FunctionTransformer\n",
    "from sklearn.compose import ColumnTransformer\n",
    "\n",
    "# impute missing values\n",
    "from sklearn.experimental import enable_iterative_imputer  # noqa\n",
    "from sklearn.impute import KNNImputer, IterativeImputer, SimpleImputer\n",
    "from sklearn.tree import DecisionTreeRegressor\n",
    "from category_encoders import TargetEncoder\n"
   ]
  },
  {
   "cell_type": "code",
   "execution_count": 124,
   "metadata": {},
   "outputs": [
    {
     "name": "stdout",
     "output_type": "stream",
     "text": [
      "The autoreload extension is already loaded. To reload it, use:\n",
      "  %reload_ext autoreload\n"
     ]
    }
   ],
   "source": [
    "%load_ext autoreload\n",
    "%autoreload 2"
   ]
  },
  {
   "cell_type": "code",
   "execution_count": 125,
   "metadata": {},
   "outputs": [],
   "source": [
    "import warnings\n",
    "\n",
    "warnings.filterwarnings('ignore', message=\"pandas.Int64Index is deprecated and will be removed from pandas in a future version. Use pandas.Index with the appropriate dtype instead.\", \n",
    "                        category=FutureWarning)\n",
    "warnings.filterwarnings('ignore', message=\"pandas.Float64Index is deprecated and will be removed from pandas in a future version. Use pandas.Index with the appropriate dtype instead.\",\n",
    "                        category=FutureWarning)"
   ]
  },
  {
   "cell_type": "code",
   "execution_count": 126,
   "metadata": {},
   "outputs": [],
   "source": [
    "# standard code-template imports\n",
    "from ta_lib.core.api import (\n",
    "    create_context, get_dataframe, get_feature_names_from_column_transformer, string_cleaning,\n",
    "    get_package_path, display_as_tabs, save_pipeline, load_pipeline, initialize_environment,\n",
    "    load_dataset, save_dataset, DEFAULT_ARTIFACTS_PATH\n",
    ")\n",
    "\n",
    "import ta_lib.eda.api as eda\n",
    "from xgboost import XGBRegressor\n",
    "from ta_lib.regression.api import SKLStatsmodelOLS\n",
    "from ta_lib.regression.api import RegressionComparison, RegressionReport\n",
    "import ta_lib.reports.api as reports\n",
    "from ta_lib.data_processing.api import Outlier\n",
    "\n",
    "initialize_environment(debug=False, hide_warnings=True)"
   ]
  },
  {
   "attachments": {},
   "cell_type": "markdown",
   "metadata": {},
   "source": [
    "# Initialization"
   ]
  },
  {
   "cell_type": "code",
   "execution_count": 127,
   "metadata": {},
   "outputs": [],
   "source": [
    "artifacts_folder = DEFAULT_ARTIFACTS_PATH"
   ]
  },
  {
   "cell_type": "code",
   "execution_count": 128,
   "metadata": {},
   "outputs": [],
   "source": [
    "config_path = op.join('conf', 'config.yml')\n",
    "context = create_context(config_path)"
   ]
  },
  {
   "attachments": {},
   "cell_type": "markdown",
   "metadata": {},
   "source": [
    "# 3 Feature Engineering\n",
    "\n",
    "The focus here is the `Pipeline` and not the model. Though the model would inform the pipeline that is needed to train the model, our focus is to set it up in such a way that it can be saved/loaded, tweaked for different model choices and so on."
   ]
  },
  {
   "attachments": {},
   "cell_type": "markdown",
   "metadata": {},
   "source": [
    "## 3.1 Read the Train and Test Data"
   ]
  },
  {
   "cell_type": "code",
   "execution_count": 129,
   "metadata": {},
   "outputs": [
    {
     "name": "stdout",
     "output_type": "stream",
     "text": [
      "(16346, 15) (16346, 1)\n",
      "(4087, 15) (4087, 1)\n"
     ]
    }
   ],
   "source": [
    "train_X = load_dataset(context, 'train/housing/features')\n",
    "train_y = load_dataset(context, 'train/housing/target')\n",
    "print(train_X.shape, train_y.shape)\n",
    "\n",
    "test_X = load_dataset(context, 'test/housing/features')\n",
    "test_y = load_dataset(context, 'test/housing/target')\n",
    "print(test_X.shape, test_y.shape)"
   ]
  },
  {
   "cell_type": "code",
   "execution_count": 130,
   "metadata": {},
   "outputs": [
    {
     "data": {
      "text/html": [
       "<div>\n",
       "<style scoped>\n",
       "    .dataframe tbody tr th:only-of-type {\n",
       "        vertical-align: middle;\n",
       "    }\n",
       "\n",
       "    .dataframe tbody tr th {\n",
       "        vertical-align: top;\n",
       "    }\n",
       "\n",
       "    .dataframe thead th {\n",
       "        text-align: right;\n",
       "    }\n",
       "</style>\n",
       "<table border=\"1\" class=\"dataframe\">\n",
       "  <thead>\n",
       "    <tr style=\"text-align: right;\">\n",
       "      <th></th>\n",
       "      <th>longitude</th>\n",
       "      <th>latitude</th>\n",
       "      <th>housing_median_age</th>\n",
       "      <th>total_rooms</th>\n",
       "      <th>total_bedrooms</th>\n",
       "      <th>population</th>\n",
       "      <th>households</th>\n",
       "      <th>median_income</th>\n",
       "      <th>rooms_per_household</th>\n",
       "      <th>bedrooms_per_room</th>\n",
       "      <th>population_per_household</th>\n",
       "      <th>ocean_proximity_INLAND</th>\n",
       "      <th>ocean_proximity_NEAR BAY</th>\n",
       "      <th>ocean_proximity_NEAR OCEAN</th>\n",
       "      <th>ocean_proximity_ISLAND</th>\n",
       "    </tr>\n",
       "  </thead>\n",
       "  <tbody>\n",
       "    <tr>\n",
       "      <th>17971</th>\n",
       "      <td>-122.06</td>\n",
       "      <td>37.34</td>\n",
       "      <td>20.0</td>\n",
       "      <td>3435.0</td>\n",
       "      <td>593.0</td>\n",
       "      <td>1293.0</td>\n",
       "      <td>553.0</td>\n",
       "      <td>6.7578</td>\n",
       "      <td>6.211573</td>\n",
       "      <td>0.172635</td>\n",
       "      <td>2.338156</td>\n",
       "      <td>0</td>\n",
       "      <td>0</td>\n",
       "      <td>0</td>\n",
       "      <td>0</td>\n",
       "    </tr>\n",
       "    <tr>\n",
       "      <th>8014</th>\n",
       "      <td>-118.21</td>\n",
       "      <td>33.80</td>\n",
       "      <td>41.0</td>\n",
       "      <td>1251.0</td>\n",
       "      <td>279.0</td>\n",
       "      <td>1053.0</td>\n",
       "      <td>278.0</td>\n",
       "      <td>3.2778</td>\n",
       "      <td>4.500000</td>\n",
       "      <td>0.223022</td>\n",
       "      <td>3.787770</td>\n",
       "      <td>0</td>\n",
       "      <td>0</td>\n",
       "      <td>1</td>\n",
       "      <td>0</td>\n",
       "    </tr>\n",
       "    <tr>\n",
       "      <th>8226</th>\n",
       "      <td>-118.13</td>\n",
       "      <td>33.77</td>\n",
       "      <td>37.0</td>\n",
       "      <td>4365.0</td>\n",
       "      <td>926.0</td>\n",
       "      <td>1661.0</td>\n",
       "      <td>868.0</td>\n",
       "      <td>5.3046</td>\n",
       "      <td>5.028802</td>\n",
       "      <td>0.212142</td>\n",
       "      <td>1.913594</td>\n",
       "      <td>0</td>\n",
       "      <td>0</td>\n",
       "      <td>1</td>\n",
       "      <td>0</td>\n",
       "    </tr>\n",
       "    <tr>\n",
       "      <th>8277</th>\n",
       "      <td>-118.35</td>\n",
       "      <td>33.97</td>\n",
       "      <td>26.0</td>\n",
       "      <td>1725.0</td>\n",
       "      <td>431.0</td>\n",
       "      <td>1130.0</td>\n",
       "      <td>404.0</td>\n",
       "      <td>3.2708</td>\n",
       "      <td>4.269802</td>\n",
       "      <td>0.249855</td>\n",
       "      <td>2.797030</td>\n",
       "      <td>0</td>\n",
       "      <td>0</td>\n",
       "      <td>0</td>\n",
       "      <td>0</td>\n",
       "    </tr>\n",
       "    <tr>\n",
       "      <th>13065</th>\n",
       "      <td>-117.70</td>\n",
       "      <td>34.09</td>\n",
       "      <td>25.0</td>\n",
       "      <td>1719.0</td>\n",
       "      <td>331.0</td>\n",
       "      <td>1098.0</td>\n",
       "      <td>324.0</td>\n",
       "      <td>3.6250</td>\n",
       "      <td>5.305556</td>\n",
       "      <td>0.192554</td>\n",
       "      <td>3.388889</td>\n",
       "      <td>1</td>\n",
       "      <td>0</td>\n",
       "      <td>0</td>\n",
       "      <td>0</td>\n",
       "    </tr>\n",
       "  </tbody>\n",
       "</table>\n",
       "</div>"
      ],
      "text/plain": [
       "       longitude  latitude  housing_median_age  total_rooms  total_bedrooms  \\\n",
       "17971    -122.06     37.34                20.0       3435.0           593.0   \n",
       "8014     -118.21     33.80                41.0       1251.0           279.0   \n",
       "8226     -118.13     33.77                37.0       4365.0           926.0   \n",
       "8277     -118.35     33.97                26.0       1725.0           431.0   \n",
       "13065    -117.70     34.09                25.0       1719.0           331.0   \n",
       "\n",
       "       population  households  median_income  rooms_per_household  \\\n",
       "17971      1293.0       553.0         6.7578             6.211573   \n",
       "8014       1053.0       278.0         3.2778             4.500000   \n",
       "8226       1661.0       868.0         5.3046             5.028802   \n",
       "8277       1130.0       404.0         3.2708             4.269802   \n",
       "13065      1098.0       324.0         3.6250             5.305556   \n",
       "\n",
       "       bedrooms_per_room  population_per_household  ocean_proximity_INLAND  \\\n",
       "17971           0.172635                  2.338156                       0   \n",
       "8014            0.223022                  3.787770                       0   \n",
       "8226            0.212142                  1.913594                       0   \n",
       "8277            0.249855                  2.797030                       0   \n",
       "13065           0.192554                  3.388889                       1   \n",
       "\n",
       "       ocean_proximity_NEAR BAY  ocean_proximity_NEAR OCEAN  \\\n",
       "17971                         0                           0   \n",
       "8014                          0                           1   \n",
       "8226                          0                           1   \n",
       "8277                          0                           0   \n",
       "13065                         0                           0   \n",
       "\n",
       "       ocean_proximity_ISLAND  \n",
       "17971                       0  \n",
       "8014                        0  \n",
       "8226                        0  \n",
       "8277                        0  \n",
       "13065                       0  "
      ]
     },
     "execution_count": 130,
     "metadata": {},
     "output_type": "execute_result"
    }
   ],
   "source": [
    "test_X.head()"
   ]
  },
  {
   "attachments": {},
   "cell_type": "markdown",
   "metadata": {},
   "source": [
    "## 3.2 Feature Engineering Pipelines\n"
   ]
  },
  {
   "attachments": {},
   "cell_type": "markdown",
   "metadata": {},
   "source": [
    "**Dev NOTES**\n",
    "\n",
    "For Feature Engineering and Model Building sklearn.pipeline.Pipeline are leveraged because of the following advantages\n",
    "<details>\n",
    "    \n",
    "1. It helps in automating workflows and are easier to read and comprehend.\n",
    "2. Right Sequence can be ensured and (for example always encodes before imputing)\n",
    "3. Reproducibility is very convenient with pipelines\n",
    "4. Pipelines help you prevent data leakage in your test data\n",
    "5. Code is near implementation ready"
   ]
  },
  {
   "cell_type": "code",
   "execution_count": 131,
   "metadata": {},
   "outputs": [],
   "source": [
    "# collecting different types of columns for transformations\n",
    "cat_columns = train_X.select_dtypes('object').columns\n",
    "num_columns = train_X.select_dtypes('number').columns"
   ]
  },
  {
   "attachments": {},
   "cell_type": "markdown",
   "metadata": {},
   "source": [
    "#### Outlier Handling\n",
    "- A Custom Transformer is used to handle outliers. It is not included as part of the pipeline as outliers handling are optional for test data\n",
    "- An option to either drop or cap the outliers can be passed during the transform call\n",
    "- If we want to treat outliers for some columns them we can pass cols argument to the Transformer\n",
    "- This will go into production code"
   ]
  },
  {
   "cell_type": "code",
   "execution_count": 132,
   "metadata": {},
   "outputs": [
    {
     "name": "stdout",
     "output_type": "stream",
     "text": [
      "(16346, 15)\n",
      "(16346, 15)\n"
     ]
    }
   ],
   "source": [
    "outlier_transformer = Outlier(method='mean')\n",
    "print(train_X.shape)\n",
    "train_X = outlier_transformer.fit_transform(train_X)\n",
    "print(train_X.shape)"
   ]
  },
  {
   "attachments": {},
   "cell_type": "markdown",
   "metadata": {},
   "source": [
    "### 3.2.1 Univariate\n",
    "\n",
    "\n",
    "- Look at each variable independently. This is useful if your models have assumptions on the distribution and/or bounds on the features/target"
   ]
  },
  {
   "cell_type": "code",
   "execution_count": 136,
   "metadata": {},
   "outputs": [
    {
     "data": {
      "text/plain": [
       "Index(['longitude', 'latitude', 'housing_median_age', 'total_rooms',\n",
       "       'total_bedrooms', 'population', 'households', 'median_income',\n",
       "       'rooms_per_household', 'bedrooms_per_room', 'population_per_household',\n",
       "       'ocean_proximity_INLAND', 'ocean_proximity_ISLAND',\n",
       "       'ocean_proximity_NEAR BAY', 'ocean_proximity_NEAR OCEAN'],\n",
       "      dtype='object')"
      ]
     },
     "execution_count": 136,
     "metadata": {},
     "output_type": "execute_result"
    }
   ],
   "source": [
    "train_X.columns"
   ]
  },
  {
   "cell_type": "code",
   "execution_count": 137,
   "metadata": {},
   "outputs": [
    {
     "data": {},
     "metadata": {},
     "output_type": "display_data"
    },
    {
     "data": {
      "application/vnd.holoviews_exec.v0+json": "",
      "text/html": [
       "<div id='103766'>\n",
       "  <div class=\"bk-root\" id=\"4a13b6f0-209e-474f-822f-8a81a78f0993\" data-root-id=\"103766\"></div>\n",
       "</div>\n",
       "<script type=\"application/javascript\">(function(root) {\n",
       "  function embed_document(root) {\n",
       "    var docs_json = {\"011234d1-4bb8-42d3-9977-a30e8b1d65f8\":{\"defs\":[{\"extends\":null,\"module\":null,\"name\":\"ReactiveHTML1\",\"overrides\":[],\"properties\":[]},{\"extends\":null,\"module\":null,\"name\":\"FlexBox1\",\"overrides\":[],\"properties\":[{\"default\":\"flex-start\",\"kind\":null,\"name\":\"align_content\"},{\"default\":\"flex-start\",\"kind\":null,\"name\":\"align_items\"},{\"default\":\"row\",\"kind\":null,\"name\":\"flex_direction\"},{\"default\":\"wrap\",\"kind\":null,\"name\":\"flex_wrap\"},{\"default\":\"flex-start\",\"kind\":null,\"name\":\"justify_content\"}]},{\"extends\":null,\"module\":null,\"name\":\"GridStack1\",\"overrides\":[],\"properties\":[{\"default\":\"warn\",\"kind\":null,\"name\":\"mode\"},{\"default\":null,\"kind\":null,\"name\":\"ncols\"},{\"default\":null,\"kind\":null,\"name\":\"nrows\"},{\"default\":true,\"kind\":null,\"name\":\"allow_resize\"},{\"default\":true,\"kind\":null,\"name\":\"allow_drag\"},{\"default\":[],\"kind\":null,\"name\":\"state\"}]},{\"extends\":null,\"module\":null,\"name\":\"click1\",\"overrides\":[],\"properties\":[{\"default\":\"\",\"kind\":null,\"name\":\"terminal_output\"},{\"default\":\"\",\"kind\":null,\"name\":\"debug_name\"},{\"default\":0,\"kind\":null,\"name\":\"clears\"}]},{\"extends\":null,\"module\":null,\"name\":\"NotificationAreaBase1\",\"overrides\":[],\"properties\":[{\"default\":\"bottom-right\",\"kind\":null,\"name\":\"position\"},{\"default\":0,\"kind\":null,\"name\":\"_clear\"}]},{\"extends\":null,\"module\":null,\"name\":\"NotificationArea1\",\"overrides\":[],\"properties\":[{\"default\":[],\"kind\":null,\"name\":\"notifications\"},{\"default\":\"bottom-right\",\"kind\":null,\"name\":\"position\"},{\"default\":0,\"kind\":null,\"name\":\"_clear\"},{\"default\":[{\"background\":\"#ffc107\",\"icon\":{\"className\":\"fas fa-exclamation-triangle\",\"color\":\"white\",\"tagName\":\"i\"},\"type\":\"warning\"},{\"background\":\"#007bff\",\"icon\":{\"className\":\"fas fa-info-circle\",\"color\":\"white\",\"tagName\":\"i\"},\"type\":\"info\"}],\"kind\":null,\"name\":\"types\"}]},{\"extends\":null,\"module\":null,\"name\":\"Notification\",\"overrides\":[],\"properties\":[{\"default\":null,\"kind\":null,\"name\":\"background\"},{\"default\":3000,\"kind\":null,\"name\":\"duration\"},{\"default\":null,\"kind\":null,\"name\":\"icon\"},{\"default\":\"\",\"kind\":null,\"name\":\"message\"},{\"default\":null,\"kind\":null,\"name\":\"notification_type\"},{\"default\":false,\"kind\":null,\"name\":\"_destroyed\"}]},{\"extends\":null,\"module\":null,\"name\":\"TemplateActions1\",\"overrides\":[],\"properties\":[{\"default\":0,\"kind\":null,\"name\":\"open_modal\"},{\"default\":0,\"kind\":null,\"name\":\"close_modal\"}]},{\"extends\":null,\"module\":null,\"name\":\"MaterialTemplateActions1\",\"overrides\":[],\"properties\":[{\"default\":0,\"kind\":null,\"name\":\"open_modal\"},{\"default\":0,\"kind\":null,\"name\":\"close_modal\"}]}],\"roots\":{\"references\":[{\"attributes\":{},\"id\":\"104160\",\"type\":\"NumberEditor\"},{\"attributes\":{\"editor\":{\"id\":\"104155\"},\"field\":\"A_50_percent\",\"formatter\":{\"id\":\"104154\"},\"title\":\"50%\"},\"id\":\"104156\",\"type\":\"TableColumn\"},{\"attributes\":{\"editor\":{\"id\":\"104160\"},\"field\":\"A_75_percent\",\"formatter\":{\"id\":\"104159\"},\"title\":\"75%\"},\"id\":\"104161\",\"type\":\"TableColumn\"},{\"attributes\":{\"callback\":null,\"renderers\":[{\"id\":\"103825\"}],\"tags\":[\"hv_created\"],\"tooltips\":[[\"households\",\"@{households}\"],[\"Density\",\"@{households_density}\"]]},\"id\":\"103773\",\"type\":\"HoverTool\"},{\"attributes\":{\"bottom\":{\"value\":0},\"fill_alpha\":{\"value\":1.0},\"fill_color\":{\"value\":\"#00fff0\"},\"hatch_alpha\":{\"value\":1.0},\"hatch_color\":{\"value\":\"#00fff0\"},\"hatch_scale\":{\"value\":12.0},\"hatch_weight\":{\"value\":1.0},\"left\":{\"field\":\"left\"},\"line_alpha\":{\"value\":1.0},\"line_cap\":{\"value\":\"butt\"},\"line_color\":{\"value\":\"black\"},\"line_dash\":{\"value\":[]},\"line_dash_offset\":{\"value\":0},\"line_join\":{\"value\":\"bevel\"},\"line_width\":{\"value\":1},\"right\":{\"field\":\"right\"},\"top\":{\"field\":\"top\"}},\"id\":\"103818\",\"type\":\"Quad\"},{\"attributes\":{},\"id\":\"104165\",\"type\":\"NumberEditor\"},{\"attributes\":{},\"id\":\"103784\",\"type\":\"BasicTicker\"},{\"attributes\":{\"editor\":{\"id\":\"104165\"},\"field\":\"max\",\"formatter\":{\"id\":\"104164\"},\"title\":\"max\"},\"id\":\"104166\",\"type\":\"TableColumn\"},{\"attributes\":{},\"id\":\"103806\",\"type\":\"AllLabels\"},{\"attributes\":{},\"id\":\"103820\",\"type\":\"Selection\"},{\"attributes\":{\"axis_label\":\"households\",\"coordinates\":null,\"formatter\":{\"id\":\"103805\"},\"group\":null,\"major_label_policy\":{\"id\":\"103806\"},\"ticker\":{\"id\":\"103784\"}},\"id\":\"103783\",\"type\":\"LinearAxis\"},{\"attributes\":{\"format\":\"0,0.0[00000]\"},\"id\":\"104164\",\"type\":\"NumberFormatter\"},{\"attributes\":{},\"id\":\"103779\",\"type\":\"LinearScale\"},{\"attributes\":{},\"id\":\"103793\",\"type\":\"WheelZoomTool\"},{\"attributes\":{},\"id\":\"103840\",\"type\":\"UnionRenderers\"},{\"attributes\":{\"toolbar\":{\"id\":\"103999\"},\"toolbar_location\":\"above\"},\"id\":\"104000\",\"type\":\"ToolbarBox\"},{\"attributes\":{\"coordinates\":null,\"group\":null,\"text\":\"Density Plot for households\",\"text_color\":\"black\",\"text_font_size\":\"12pt\"},\"id\":\"103775\",\"type\":\"Title\"},{\"attributes\":{},\"id\":\"103781\",\"type\":\"LinearScale\"},{\"attributes\":{},\"id\":\"103792\",\"type\":\"PanTool\"},{\"attributes\":{\"axis\":{\"id\":\"103783\"},\"coordinates\":null,\"grid_line_color\":null,\"group\":null,\"ticker\":null},\"id\":\"103786\",\"type\":\"Grid\"},{\"attributes\":{\"coordinates\":null,\"data_source\":{\"id\":\"103819\"},\"glyph\":{\"id\":\"103822\"},\"group\":null,\"hover_glyph\":null,\"muted_glyph\":{\"id\":\"103824\"},\"nonselection_glyph\":{\"id\":\"103823\"},\"selection_glyph\":{\"id\":\"103827\"},\"view\":{\"id\":\"103826\"},\"y_range_name\":\"twiny\"},\"id\":\"103825\",\"type\":\"GlyphRenderer\"},{\"attributes\":{\"axis_label\":\"Frequency\",\"coordinates\":null,\"formatter\":{\"id\":\"103808\"},\"group\":null,\"major_label_policy\":{\"id\":\"103809\"},\"ticker\":{\"id\":\"103788\"}},\"id\":\"103787\",\"type\":\"LinearAxis\"},{\"attributes\":{},\"id\":\"103788\",\"type\":\"BasicTicker\"},{\"attributes\":{\"margin\":[5,5,5,5],\"name\":\"HSpacer234429\",\"sizing_mode\":\"stretch_width\"},\"id\":\"103767\",\"type\":\"Spacer\"},{\"attributes\":{\"axis\":{\"id\":\"103787\"},\"coordinates\":null,\"dimension\":1,\"grid_line_color\":null,\"group\":null,\"ticker\":null},\"id\":\"103790\",\"type\":\"Grid\"},{\"attributes\":{\"fill_alpha\":0.5,\"fill_color\":\"#30a2da\",\"hatch_alpha\":0.1,\"hatch_color\":\"#30a2da\",\"line_alpha\":1,\"x\":{\"field\":\"x\"},\"y\":{\"field\":\"y\"}},\"id\":\"103823\",\"type\":\"Patch\"},{\"attributes\":{},\"id\":\"103791\",\"type\":\"SaveTool\"},{\"attributes\":{\"margin\":[5,5,5,5],\"name\":\"HSpacer234434\",\"sizing_mode\":\"stretch_width\"},\"id\":\"104192\",\"type\":\"Spacer\"},{\"attributes\":{\"overlay\":{\"id\":\"103796\"}},\"id\":\"103794\",\"type\":\"BoxZoomTool\"},{\"attributes\":{},\"id\":\"103795\",\"type\":\"ResetTool\"},{\"attributes\":{\"client_comm_id\":\"d37eb40d07a649e6923e82a44539484c\",\"comm_id\":\"e619b8673e5d446dbba9571a1143d347\",\"plot_id\":\"103766\"},\"id\":\"104244\",\"type\":\"panel.models.comm_manager.CommManager\"},{\"attributes\":{\"source\":{\"id\":\"103935\"}},\"id\":\"103979\",\"type\":\"CDSView\"},{\"attributes\":{},\"id\":\"103842\",\"type\":\"UnionRenderers\"},{\"attributes\":{\"bottom_units\":\"screen\",\"coordinates\":null,\"fill_alpha\":0.5,\"fill_color\":\"lightgrey\",\"group\":null,\"left_units\":\"screen\",\"level\":\"overlay\",\"line_alpha\":1.0,\"line_color\":\"black\",\"line_dash\":[4,4],\"line_width\":2,\"right_units\":\"screen\",\"syncable\":false,\"top_units\":\"screen\"},\"id\":\"103796\",\"type\":\"BoxAnnotation\"},{\"attributes\":{\"children\":[{\"id\":\"103767\"},{\"id\":\"103768\"},{\"id\":\"104192\"}],\"margin\":[0,0,0,0],\"name\":\"Row234420\"},\"id\":\"103766\",\"type\":\"Row\"},{\"attributes\":{\"children\":[{\"id\":\"103769\"},{\"id\":\"104187\"}],\"margin\":[0,0,0,0],\"name\":\"Column234433\"},\"id\":\"103768\",\"type\":\"Column\"},{\"attributes\":{\"toolbars\":[{\"id\":\"103797\"}],\"tools\":[{\"id\":\"103773\"},{\"id\":\"103791\"},{\"id\":\"103792\"},{\"id\":\"103793\"},{\"id\":\"103794\"},{\"id\":\"103795\"}]},\"id\":\"103999\",\"type\":\"ProxyToolbar\"},{\"attributes\":{\"fill_alpha\":0.5,\"fill_color\":\"#30a2da\",\"hatch_color\":\"#30a2da\",\"x\":{\"field\":\"x\"},\"y\":{\"field\":\"y\"}},\"id\":\"103822\",\"type\":\"Patch\"},{\"attributes\":{},\"id\":\"103811\",\"type\":\"Selection\"},{\"attributes\":{\"margin\":[5,5,5,5],\"name\":\"HSpacer234430\",\"sizing_mode\":\"stretch_width\"},\"id\":\"103770\",\"type\":\"Spacer\"},{\"attributes\":{\"fill_alpha\":0.2,\"fill_color\":\"#30a2da\",\"hatch_alpha\":0.2,\"hatch_color\":\"#30a2da\",\"line_alpha\":0.2,\"x\":{\"field\":\"x\"},\"y\":{\"field\":\"y\"}},\"id\":\"103824\",\"type\":\"Patch\"},{\"attributes\":{\"children\":[{\"id\":\"103770\"},{\"id\":\"104003\"},{\"id\":\"104186\"}],\"margin\":[0,0,0,0],\"name\":\"Row234432\"},\"id\":\"103769\",\"type\":\"Row\"},{\"attributes\":{\"fill_alpha\":0.5,\"fill_color\":\"#30a2da\",\"hatch_color\":\"#30a2da\",\"x\":{\"field\":\"x\"},\"y\":{\"field\":\"y\"}},\"id\":\"103827\",\"type\":\"Patch\"},{\"attributes\":{\"source\":{\"id\":\"103819\"}},\"id\":\"103826\",\"type\":\"CDSView\"},{\"attributes\":{\"children\":[{\"id\":\"104000\"},{\"id\":\"103998\"}]},\"id\":\"104001\",\"type\":\"Column\"},{\"attributes\":{\"coordinates\":null,\"data_source\":{\"id\":\"103810\"},\"glyph\":{\"id\":\"103813\"},\"group\":null,\"hover_glyph\":null,\"muted_glyph\":{\"id\":\"103815\"},\"nonselection_glyph\":{\"id\":\"103814\"},\"selection_glyph\":{\"id\":\"103818\"},\"view\":{\"id\":\"103817\"}},\"id\":\"103816\",\"type\":\"GlyphRenderer\"},{\"attributes\":{\"end\":0.0019478853359720316},\"id\":\"103828\",\"type\":\"Range1d\"},{\"attributes\":{\"style\":{\"white-space\":\"nowrap\"},\"text\":\"<span style=\\\"color:black;font-family:Arial;font-style:bold;font-weight:bold;font-size:12pt\\\">col: households</span>\",\"width\":450},\"id\":\"104002\",\"type\":\"Div\"},{\"attributes\":{\"format\":\"0,0.0[00000]\"},\"id\":\"104144\",\"type\":\"NumberFormatter\"},{\"attributes\":{\"margin\":[5,5,5,5],\"name\":\"HSpacer234431\",\"sizing_mode\":\"stretch_width\"},\"id\":\"104186\",\"type\":\"Spacer\"},{\"attributes\":{\"children\":[{\"id\":\"104002\"},{\"id\":\"104001\"}]},\"id\":\"104003\",\"type\":\"Column\"},{\"attributes\":{\"children\":[{\"id\":\"104188\"},{\"id\":\"104189\"},{\"id\":\"104191\"}],\"margin\":[0,0,0,0],\"name\":\"Row234428\"},\"id\":\"104187\",\"type\":\"Row\"},{\"attributes\":{\"data\":{\"A_25_percent\":{\"__ndarray__\":\"AAAAAACgcUA=\",\"dtype\":\"float64\",\"order\":\"little\",\"shape\":[1]},\"A_50_percent\":{\"__ndarray__\":\"AAAAAACgeUA=\",\"dtype\":\"float64\",\"order\":\"little\",\"shape\":[1]},\"A_75_percent\":{\"__ndarray__\":\"AAAAAAD4gkA=\",\"dtype\":\"float64\",\"order\":\"little\",\"shape\":[1]},\"count\":{\"__ndarray__\":\"AAAAAADtz0A=\",\"dtype\":\"float64\",\"order\":\"little\",\"shape\":[1]},\"max\":{\"__ndarray__\":\"XI/C9SjqmUA=\",\"dtype\":\"float64\",\"order\":\"little\",\"shape\":[1]},\"mean\":{\"__ndarray__\":\"4XoUrkeNfkA=\",\"dtype\":\"float64\",\"order\":\"little\",\"shape\":[1]},\"min\":{\"__ndarray__\":\"AAAAAAAA8D8=\",\"dtype\":\"float64\",\"order\":\"little\",\"shape\":[1]},\"std\":{\"__ndarray__\":\"uB6F61EAdEA=\",\"dtype\":\"float64\",\"order\":\"little\",\"shape\":[1]}},\"selected\":{\"id\":\"103936\"},\"selection_policy\":{\"id\":\"103996\"}},\"id\":\"103935\",\"type\":\"ColumnDataSource\"},{\"attributes\":{\"source\":{\"id\":\"103810\"}},\"id\":\"103817\",\"type\":\"CDSView\"},{\"attributes\":{\"axis_label\":\"y, households_density\",\"coordinates\":null,\"formatter\":{\"id\":\"103835\"},\"group\":null,\"major_label_policy\":{\"id\":\"103836\"},\"ticker\":{\"id\":\"103834\"},\"y_range_name\":\"twiny\"},\"id\":\"103829\",\"type\":\"LinearAxis\"},{\"attributes\":{\"bottom\":{\"value\":0},\"fill_color\":{\"value\":\"#00fff0\"},\"hatch_color\":{\"value\":\"#00fff0\"},\"left\":{\"field\":\"left\"},\"right\":{\"field\":\"right\"},\"top\":{\"field\":\"top\"}},\"id\":\"103813\",\"type\":\"Quad\"},{\"attributes\":{\"columns\":[{\"id\":\"104131\"},{\"id\":\"104136\"},{\"id\":\"104141\"},{\"id\":\"104146\"},{\"id\":\"104151\"},{\"id\":\"104156\"},{\"id\":\"104161\"},{\"id\":\"104166\"}],\"height\":60,\"reorderable\":false,\"source\":{\"id\":\"103935\"},\"view\":{\"id\":\"103979\"}},\"id\":\"103977\",\"type\":\"DataTable\"},{\"attributes\":{},\"id\":\"103996\",\"type\":\"UnionRenderers\"},{\"attributes\":{\"end\":1893.1184256200868,\"reset_end\":1893.1184256200868,\"reset_start\":-233.58252312910057,\"start\":-233.58252312910057,\"tags\":[[[\"x\",\"x\",null]]]},\"id\":\"103771\",\"type\":\"Range1d\"},{\"attributes\":{\"data\":{\"x\":{\"__ndarray__\":\"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\",\"dtype\":\"float64\",\"order\":\"little\",\"shape\":[200]},\"y\":{\"__ndarray__\":\"AAAAAAAAAAAAAAAAAAAAAAAAAAAAAAAAAAAAAAAAAAAAAAAAAAAAAAAAAAAAAAAAAAAAAAAAAAAAAAAAAAAAAAAAAAAAAAAAAAAAAAAAAAAAAAAAAAAAAAAAAAAAAAAAAAAAAAAAAAAAAAAAAAAAAAAAAAAAAAAAAAAAAAAAAAAAAAAAAAAAAAAAAAAAAAAAAAAAAAAAAAAAAAAAAAAAAAAAAAAAAAAAAAAAAAAAAAAAAAAAAAAAAAAAAAAAAAAAAAAAAAAAAAAAAAAAAAAAAAAAAAAAAAAAAAAAAAAAAAAAAAAAAAAAAAAAAAAAAAAAAAAAAAAAAAAAAAAAAAAAAAAAAAAAAAAAAAAAAAAAAAAAAAAAAAAAAAAAAAAAAAAAAAAAAAAAAAAAAAAAAAAAAAAAAAAAAAAAAAAAAAAAAAAAAAAAAAAAAAAAAAAAAAAAAAAAAAAAAAAAAAAAAAAAAAAAAAAAAAAAAAAAAAAAAAAAAAAAAAAAAAAAAAAAAAAAAAAAAAAAAAAAAAAAAAAAAAAAAAAAAAAAAAAAAAAAAAAAAAAAAAAAAAAAAAAAAAAAAAAAAAAAAAAAAAAAAAAAAAAAAAAAAAAAAAAAAAAAAAAAAAAAAAAAAAAAAAAAAAAAAAAAAAAAAAAAAAAAAAAAAAAAAAAAAAAAAAAAAAAAAAAAAAAAAAAAAAAAAAAAAAAAAAAAAAAAAAAAAAAAAAAAAAAAAAAAAAAAAAAAAAAAAAAAAAAAAAAAAAAAAAAAAAAAAAAAAAAAAAAAAAAAAAAAAAAAAAAAAAAAAAAAAAAAAAAAAAAAAAAAAAAAAAAAAAAAAAAAAAAAAAAAAAAAAAAAAAAAAAAAAAAAAAAAAAAAAAAAAAAAAAAAAAAAAAAAAAAAAAAAAAAAAAAAAAAAAAAAAAAAAAAAAAAAAAAAAAAAAAAAAAAAAAAAAAAAAAAAAAAAAAAAAAAAAAAAAAAAAAAAAAAAAAAAAAAAAAAAAAAAAAAAAAAAAAAAAAAAAAAAAAAAAAAAAAAAAAAAAAAAAAAAAAAAAAAAAAAAAAAAAAAAAAAkwXcF8Pm8PoJSI8iAw9c+x4sXPPBJ8D6CprraVawCP0jKsCRR6hE/+SOMK0fPHD8jBxr2FXYjP9yIeSLrMCY/rAIu1aqMJT+5b/u6iiYiPzZDSyKMhxs/UiEb7bYpFD8pMH7PSYEPP4NoDJT2KAw/W20fdHE6DD8bh1MgAqANP0hLDU1Q7w4/4hkjYniJDz/ycumUEHUPPwHw3v1YDA8/SZeLWbKsDj/EAYq5TJ0OP23RfTP4Jg8/iWHlrOlOED/NYTDWg50RP5KhIWzudBM/E3CIFzCcFT9a7iDTV7wXP9FwJtH+hBk/okkdmaTYGj/XvrRbq+QbP+8az9NsBx0/5UDJR16MHj8CJnYgwDogP3WMc3LiQyE/zLQBJhhIIj+rkSoME00jPzHLbzxdcCQ/PAwBqqHJJT8ksL9L+1YnP4Uunk/p/yg/26WOFZyiKj/SiHNw0iEsP/Fw29PmdS0/9nGht8C8Lj+H9I08VBswP/21YDNhFDE/k0hWkC1dMj8TFfyNI/UzPwkAq9yz0DU/dV3u3CXmNz9JWtphfDI6P9RBGy9ntTw//isaNc9rPz99QvUcAShBP6DUP//Qr0I/loL/TCRQRD9WVmNIYA1GPwH6Isn65kc/eNphoF/TST8xi7lOU8RLP2WT5Rb4sU0/greoB9yjTz/d4VABcNhQP3yzrhre+lE/IOWDDbdDUz/lq707IbRUP78GyjdwQlY/qHSO75jdVz/1250vpnNZPwvpC9Ld9lo/hW6uN6ldXD9B6j0AKJ1dP2Z1vII4o14/XGiLkOJVXz/K3pzGIZlfP1iYURczVl8/1HbsYwuAXj8kgWW16BVdP4P8sa5EJls/pKXrpefPWD+cTLZQzDxWPyHoIiK/l1M/9YHoXYADUT/qBhbGYzFNP7ceKZaT0Ug/mI67QaT/RD8UDIyYp8JBP9bvvZk5DT4/kirJCPo4OT+CcJMDV5s0P7Ior8iy7i8/A0zX6XTVJj8zkyCnUm0dP2lsRVCRxBA/h4JaKSSpAD/2zrVr+JHsPoMMN1gW+9Q+q+L/Gak/uj7lCuAgUtybPg==\",\"dtype\":\"float64\",\"order\":\"little\",\"shape\":[200]}},\"selected\":{\"id\":\"103820\"},\"selection_policy\":{\"id\":\"103842\"}},\"id\":\"103819\",\"type\":\"ColumnDataSource\"},{\"attributes\":{},\"id\":\"103808\",\"type\":\"BasicTickFormatter\"},{\"attributes\":{\"editor\":{\"id\":\"104130\"},\"field\":\"count\",\"formatter\":{\"id\":\"104129\"},\"title\":\"count\"},\"id\":\"104131\",\"type\":\"TableColumn\"},{\"attributes\":{},\"id\":\"104155\",\"type\":\"NumberEditor\"},{\"attributes\":{\"data\":{\"left\":{\"__ndarray__\":\"AAAAAAAA8D/STkxpHfhUQNJOTGkd2GRAO3byHSw0b0DSTkxpHch0QIZin8Mk9nlAO3byHSwkf0D4xCK8GSmCQNJOTGkdwIRArNh1FiFXh0CGYp/DJO6JQGHsyHAohYxAO3byHSwcj0ALAI7ll9mQQPjEIrwZJZJA5Ym3kptwk0DSTkxpHbyUQL8T4T+fB5ZArNh1FiFTl0CZnQrtop6YQA==\",\"dtype\":\"float64\",\"order\":\"little\",\"shape\":[20]},\"right\":{\"__ndarray__\":\"0k5MaR34VEDSTkxpHdhkQDt28h0sNG9A0k5MaR3IdECGYp/DJPZ5QDt28h0sJH9A+MQivBkpgkDSTkxpHcCEQKzYdRYhV4dAhmKfwyTuiUBh7MhwKIWMQDt28h0sHI9ACwCO5ZfZkED4xCK8GSWSQOWJt5KbcJNA0k5MaR28lEC/E+E/nweWQKzYdRYhU5dAmZ0K7aKemECGYp/DJOqZQA==\",\"dtype\":\"float64\",\"order\":\"little\",\"shape\":[20]},\"top\":[482,873,1771,2611,2570,2079,1501,1160,810,550,389,310,238,183,145,115,77,78,65,339]},\"selected\":{\"id\":\"103811\"},\"selection_policy\":{\"id\":\"103840\"}},\"id\":\"103810\",\"type\":\"ColumnDataSource\"},{\"attributes\":{},\"id\":\"103809\",\"type\":\"AllLabels\"},{\"attributes\":{\"format\":\"0,0.0[00000]\"},\"id\":\"104149\",\"type\":\"NumberFormatter\"},{\"attributes\":{\"end\":2637.11,\"reset_end\":2872.0999999584847,\"reset_start\":0.0,\"tags\":[[[\"Frequency\",\"Frequency\",null]]]},\"id\":\"103772\",\"type\":\"Range1d\"},{\"attributes\":{},\"id\":\"104150\",\"type\":\"NumberEditor\"},{\"attributes\":{\"format\":\"0,0.0[00000]\"},\"id\":\"104134\",\"type\":\"NumberFormatter\"},{\"attributes\":{\"editor\":{\"id\":\"104145\"},\"field\":\"min\",\"formatter\":{\"id\":\"104144\"},\"title\":\"min\"},\"id\":\"104146\",\"type\":\"TableColumn\"},{\"attributes\":{\"editor\":{\"id\":\"104150\"},\"field\":\"A_25_percent\",\"formatter\":{\"id\":\"104149\"},\"title\":\"25%\"},\"id\":\"104151\",\"type\":\"TableColumn\"},{\"attributes\":{\"format\":\"0,0.0[00000]\"},\"id\":\"104129\",\"type\":\"NumberFormatter\"},{\"attributes\":{},\"id\":\"103936\",\"type\":\"Selection\"},{\"attributes\":{\"editor\":{\"id\":\"104140\"},\"field\":\"std\",\"formatter\":{\"id\":\"104139\"},\"title\":\"std\"},\"id\":\"104141\",\"type\":\"TableColumn\"},{\"attributes\":{},\"id\":\"104135\",\"type\":\"NumberEditor\"},{\"attributes\":{},\"id\":\"104145\",\"type\":\"NumberEditor\"},{\"attributes\":{\"tools\":[{\"id\":\"103773\"},{\"id\":\"103791\"},{\"id\":\"103792\"},{\"id\":\"103793\"},{\"id\":\"103794\"},{\"id\":\"103795\"}]},\"id\":\"103797\",\"type\":\"Toolbar\"},{\"attributes\":{\"margin\":[5,5,5,5],\"name\":\"HSpacer234426\",\"sizing_mode\":\"stretch_width\"},\"id\":\"104188\",\"type\":\"Spacer\"},{\"attributes\":{\"below\":[{\"id\":\"103783\"}],\"center\":[{\"id\":\"103786\"},{\"id\":\"103790\"}],\"extra_y_ranges\":{\"twiny\":{\"id\":\"103828\"}},\"height\":300,\"left\":[{\"id\":\"103787\"}],\"margin\":null,\"min_border_bottom\":10,\"min_border_left\":10,\"min_border_right\":10,\"min_border_top\":10,\"renderers\":[{\"id\":\"103816\"},{\"id\":\"103825\"}],\"right\":[{\"id\":\"103829\"}],\"sizing_mode\":\"fixed\",\"title\":{\"id\":\"103775\"},\"toolbar\":{\"id\":\"103797\"},\"toolbar_location\":null,\"x_range\":{\"id\":\"103771\"},\"x_scale\":{\"id\":\"103779\"},\"y_range\":{\"id\":\"103772\"},\"y_scale\":{\"id\":\"103781\"}},\"id\":\"103774\",\"subtype\":\"Figure\",\"type\":\"Plot\"},{\"attributes\":{\"bottom\":{\"value\":0},\"fill_alpha\":{\"value\":0.1},\"fill_color\":{\"value\":\"#00fff0\"},\"hatch_alpha\":{\"value\":0.1},\"hatch_color\":{\"value\":\"#00fff0\"},\"left\":{\"field\":\"left\"},\"line_alpha\":{\"value\":0.1},\"right\":{\"field\":\"right\"},\"top\":{\"field\":\"top\"}},\"id\":\"103814\",\"type\":\"Quad\"},{\"attributes\":{\"children\":[[{\"id\":\"103774\"},0,0],[{\"id\":\"103977\"},1,0]]},\"id\":\"103998\",\"type\":\"GridBox\"},{\"attributes\":{},\"id\":\"104140\",\"type\":\"NumberEditor\"},{\"attributes\":{\"bottom\":{\"value\":0},\"fill_alpha\":{\"value\":0.2},\"fill_color\":{\"value\":\"#00fff0\"},\"hatch_alpha\":{\"value\":0.2},\"hatch_color\":{\"value\":\"#00fff0\"},\"left\":{\"field\":\"left\"},\"line_alpha\":{\"value\":0.2},\"right\":{\"field\":\"right\"},\"top\":{\"field\":\"top\"}},\"id\":\"103815\",\"type\":\"Quad\"},{\"attributes\":{\"children\":[{\"id\":\"104190\"}],\"css_classes\":[\"panel-widget-box\"],\"margin\":[5,5,5,5],\"name\":\"WidgetBox234421\"},\"id\":\"104189\",\"type\":\"Column\"},{\"attributes\":{},\"id\":\"104130\",\"type\":\"NumberEditor\"},{\"attributes\":{\"margin\":[5,5,5,5],\"name\":\"HSpacer234427\",\"sizing_mode\":\"stretch_width\"},\"id\":\"104191\",\"type\":\"Spacer\"},{\"attributes\":{},\"id\":\"103835\",\"type\":\"BasicTickFormatter\"},{\"attributes\":{\"format\":\"0,0.0[00000]\"},\"id\":\"104159\",\"type\":\"NumberFormatter\"},{\"attributes\":{\"format\":\"0,0.0[00000]\"},\"id\":\"104139\",\"type\":\"NumberFormatter\"},{\"attributes\":{\"margin\":[20,20,20,20],\"min_width\":250,\"options\":[\"households\",\"median_income\"],\"title\":\"col\",\"value\":\"households\",\"width\":250},\"id\":\"104190\",\"type\":\"panel.models.widgets.CustomSelect\"},{\"attributes\":{\"editor\":{\"id\":\"104135\"},\"field\":\"mean\",\"formatter\":{\"id\":\"104134\"},\"title\":\"mean\"},\"id\":\"104136\",\"type\":\"TableColumn\"},{\"attributes\":{},\"id\":\"103805\",\"type\":\"BasicTickFormatter\"},{\"attributes\":{},\"id\":\"103834\",\"type\":\"BasicTicker\"},{\"attributes\":{},\"id\":\"103836\",\"type\":\"AllLabels\"},{\"attributes\":{\"format\":\"0,0.0[00000]\"},\"id\":\"104154\",\"type\":\"NumberFormatter\"}],\"root_ids\":[\"103766\",\"104244\"]},\"title\":\"Bokeh Application\",\"version\":\"2.4.3\"}};\n",
       "    var render_items = [{\"docid\":\"011234d1-4bb8-42d3-9977-a30e8b1d65f8\",\"root_ids\":[\"103766\"],\"roots\":{\"103766\":\"4a13b6f0-209e-474f-822f-8a81a78f0993\"}}];\n",
       "    root.Bokeh.embed.embed_items_notebook(docs_json, render_items);\n",
       "  }\n",
       "  if (root.Bokeh !== undefined && root.Bokeh.Panel !== undefined) {\n",
       "    embed_document(root);\n",
       "  } else {\n",
       "    var attempts = 0;\n",
       "    var timer = setInterval(function(root) {\n",
       "      if (root.Bokeh !== undefined && root.Bokeh.Panel !== undefined) {\n",
       "        clearInterval(timer);\n",
       "        embed_document(root);\n",
       "      } else if (document.readyState == \"complete\") {\n",
       "        attempts++;\n",
       "        if (attempts > 200) {\n",
       "          clearInterval(timer);\n",
       "          console.log(\"Bokeh: ERROR: Unable to run BokehJS code because BokehJS library is missing\");\n",
       "        }\n",
       "      }\n",
       "    }, 25, root)\n",
       "  }\n",
       "})(window);</script>"
      ],
      "text/plain": [
       ":DynamicMap   [col]\n",
       "   :Layout\n",
       "      .Overlay.I :Overlay\n",
       "         .Histogram.I    :Histogram   [x]   (Frequency)\n",
       "         .Distribution.I :Distribution   [households]   (Density)\n",
       "      .Table.I   :Table   [count,mean,std,min,25%,50%,75%,max]"
      ]
     },
     "execution_count": 137,
     "metadata": {
      "application/vnd.holoviews_exec.v0+json": {
       "id": "103766"
      }
     },
     "output_type": "execute_result"
    }
   ],
   "source": [
    "out = eda.get_density_plots(train_X, cols=['households', 'median_income'])\n",
    "out"
   ]
  },
  {
   "cell_type": "code",
   "execution_count": 138,
   "metadata": {},
   "outputs": [],
   "source": [
    "# save the plots are html\n",
    "reports.create_report({'univariate': out}, name='feature_analysis_univariate')"
   ]
  },
  {
   "attachments": {},
   "cell_type": "markdown",
   "metadata": {},
   "source": [
    "A report containing the above plot is available [here](https://drive.google.com/file/d/16ntqUc_zvpg0at5pTtO-ljBjw5UVGFnp/view?usp=sharing)\n"
   ]
  },
  {
   "attachments": {},
   "cell_type": "markdown",
   "metadata": {},
   "source": [
    "Alternatively, the above plots can be generated as a single html as below. The output from this is available [here](https://drive.google.com/file/d/1vUaCcs1PJ4IYo1em9-eZIEj9WuDsnFKT/view?usp=sharing)"
   ]
  },
  {
   "cell_type": "code",
   "execution_count": 139,
   "metadata": {},
   "outputs": [
    {
     "name": "stderr",
     "output_type": "stream",
     "text": [
      "p-value may not be accurate for N > 5000.\n"
     ]
    }
   ],
   "source": [
    "reports.feature_analysis(train_X,'./feature_analysis_report.html')"
   ]
  },
  {
   "attachments": {},
   "cell_type": "markdown",
   "metadata": {},
   "source": [
    "### 3.2.2 Bivariate - mutual interactions"
   ]
  },
  {
   "attachments": {},
   "cell_type": "markdown",
   "metadata": {},
   "source": [
    "- Find columns with high correlations and drop them"
   ]
  },
  {
   "cell_type": "code",
   "execution_count": 140,
   "metadata": {},
   "outputs": [
    {
     "data": {
      "text/html": [
       "<div>\n",
       "<style scoped>\n",
       "    .dataframe tbody tr th:only-of-type {\n",
       "        vertical-align: middle;\n",
       "    }\n",
       "\n",
       "    .dataframe tbody tr th {\n",
       "        vertical-align: top;\n",
       "    }\n",
       "\n",
       "    .dataframe thead th {\n",
       "        text-align: right;\n",
       "    }\n",
       "</style>\n",
       "<table border=\"1\" class=\"dataframe\">\n",
       "  <thead>\n",
       "    <tr style=\"text-align: right;\">\n",
       "      <th></th>\n",
       "      <th>Variable 1</th>\n",
       "      <th>Variable 2</th>\n",
       "      <th>Corr Coef</th>\n",
       "      <th>Abs Corr Coef</th>\n",
       "    </tr>\n",
       "  </thead>\n",
       "  <tbody>\n",
       "    <tr>\n",
       "      <th>0</th>\n",
       "      <td>households</td>\n",
       "      <td>total_bedrooms</td>\n",
       "      <td>0.979119</td>\n",
       "      <td>0.979119</td>\n",
       "    </tr>\n",
       "    <tr>\n",
       "      <th>1</th>\n",
       "      <td>latitude</td>\n",
       "      <td>longitude</td>\n",
       "      <td>-0.924052</td>\n",
       "      <td>0.924052</td>\n",
       "    </tr>\n",
       "    <tr>\n",
       "      <th>2</th>\n",
       "      <td>total_bedrooms</td>\n",
       "      <td>total_rooms</td>\n",
       "      <td>0.922944</td>\n",
       "      <td>0.922944</td>\n",
       "    </tr>\n",
       "    <tr>\n",
       "      <th>3</th>\n",
       "      <td>households</td>\n",
       "      <td>total_rooms</td>\n",
       "      <td>0.913274</td>\n",
       "      <td>0.913274</td>\n",
       "    </tr>\n",
       "    <tr>\n",
       "      <th>4</th>\n",
       "      <td>households</td>\n",
       "      <td>population</td>\n",
       "      <td>0.908117</td>\n",
       "      <td>0.908117</td>\n",
       "    </tr>\n",
       "    <tr>\n",
       "      <th>5</th>\n",
       "      <td>population</td>\n",
       "      <td>total_bedrooms</td>\n",
       "      <td>0.878992</td>\n",
       "      <td>0.878992</td>\n",
       "    </tr>\n",
       "    <tr>\n",
       "      <th>6</th>\n",
       "      <td>population</td>\n",
       "      <td>total_rooms</td>\n",
       "      <td>0.843637</td>\n",
       "      <td>0.843637</td>\n",
       "    </tr>\n",
       "    <tr>\n",
       "      <th>7</th>\n",
       "      <td>bedrooms_per_room</td>\n",
       "      <td>rooms_per_household</td>\n",
       "      <td>-0.745202</td>\n",
       "      <td>0.745202</td>\n",
       "    </tr>\n",
       "    <tr>\n",
       "      <th>8</th>\n",
       "      <td>bedrooms_per_room</td>\n",
       "      <td>median_income</td>\n",
       "      <td>-0.681614</td>\n",
       "      <td>0.681614</td>\n",
       "    </tr>\n",
       "  </tbody>\n",
       "</table>\n",
       "</div>"
      ],
      "text/plain": [
       "          Variable 1           Variable 2  Corr Coef  Abs Corr Coef\n",
       "0         households       total_bedrooms   0.979119       0.979119\n",
       "1           latitude            longitude  -0.924052       0.924052\n",
       "2     total_bedrooms          total_rooms   0.922944       0.922944\n",
       "3         households          total_rooms   0.913274       0.913274\n",
       "4         households           population   0.908117       0.908117\n",
       "5         population       total_bedrooms   0.878992       0.878992\n",
       "6         population          total_rooms   0.843637       0.843637\n",
       "7  bedrooms_per_room  rooms_per_household  -0.745202       0.745202\n",
       "8  bedrooms_per_room        median_income  -0.681614       0.681614"
      ]
     },
     "execution_count": 140,
     "metadata": {},
     "output_type": "execute_result"
    }
   ],
   "source": [
    "out = eda.get_correlation_table(train_X)\n",
    "out[out[\"Abs Corr Coef\"] > 0.6]"
   ]
  },
  {
   "cell_type": "code",
   "execution_count": 141,
   "metadata": {},
   "outputs": [
    {
     "data": {
      "text/html": [
       "<div>\n",
       "<style scoped>\n",
       "    .dataframe tbody tr th:only-of-type {\n",
       "        vertical-align: middle;\n",
       "    }\n",
       "\n",
       "    .dataframe tbody tr th {\n",
       "        vertical-align: top;\n",
       "    }\n",
       "\n",
       "    .dataframe thead th {\n",
       "        text-align: right;\n",
       "    }\n",
       "</style>\n",
       "<table border=\"1\" class=\"dataframe\">\n",
       "  <thead>\n",
       "    <tr style=\"text-align: right;\">\n",
       "      <th></th>\n",
       "      <th>Variable 1</th>\n",
       "      <th>Variable 2</th>\n",
       "      <th>Corr Coef</th>\n",
       "      <th>Abs Corr Coef</th>\n",
       "    </tr>\n",
       "  </thead>\n",
       "  <tbody>\n",
       "    <tr>\n",
       "      <th>0</th>\n",
       "      <td>latitude</td>\n",
       "      <td>longitude</td>\n",
       "      <td>-0.924052</td>\n",
       "      <td>0.924052</td>\n",
       "    </tr>\n",
       "    <tr>\n",
       "      <th>1</th>\n",
       "      <td>population</td>\n",
       "      <td>total_rooms</td>\n",
       "      <td>0.843637</td>\n",
       "      <td>0.843637</td>\n",
       "    </tr>\n",
       "    <tr>\n",
       "      <th>2</th>\n",
       "      <td>bedrooms_per_room</td>\n",
       "      <td>rooms_per_household</td>\n",
       "      <td>-0.745202</td>\n",
       "      <td>0.745202</td>\n",
       "    </tr>\n",
       "    <tr>\n",
       "      <th>3</th>\n",
       "      <td>bedrooms_per_room</td>\n",
       "      <td>median_income</td>\n",
       "      <td>-0.681614</td>\n",
       "      <td>0.681614</td>\n",
       "    </tr>\n",
       "  </tbody>\n",
       "</table>\n",
       "</div>"
      ],
      "text/plain": [
       "          Variable 1           Variable 2  Corr Coef  Abs Corr Coef\n",
       "0           latitude            longitude  -0.924052       0.924052\n",
       "1         population          total_rooms   0.843637       0.843637\n",
       "2  bedrooms_per_room  rooms_per_household  -0.745202       0.745202\n",
       "3  bedrooms_per_room        median_income  -0.681614       0.681614"
      ]
     },
     "execution_count": 141,
     "metadata": {},
     "output_type": "execute_result"
    }
   ],
   "source": [
    "\n",
    "curated_columns = list(\n",
    "    set(train_X.columns.to_list()) \n",
    "    - set(['total_bedrooms', 'households'])\n",
    ")\n",
    "\n",
    "train_X = train_X[curated_columns]\n",
    "\n",
    "out = eda.get_correlation_table(train_X)\n",
    "out[out[\"Abs Corr Coef\"] > 0.6]"
   ]
  },
  {
   "cell_type": "code",
   "execution_count": 142,
   "metadata": {},
   "outputs": [
    {
     "data": {
      "text/plain": [
       "['housing_median_age',\n",
       " 'median_income',\n",
       " 'bedrooms_per_room',\n",
       " 'population_per_household',\n",
       " 'population',\n",
       " 'longitude',\n",
       " 'rooms_per_household',\n",
       " 'ocean_proximity_INLAND',\n",
       " 'ocean_proximity_NEAR BAY',\n",
       " 'total_rooms',\n",
       " 'ocean_proximity_NEAR OCEAN',\n",
       " 'ocean_proximity_ISLAND',\n",
       " 'latitude']"
      ]
     },
     "execution_count": 142,
     "metadata": {},
     "output_type": "execute_result"
    }
   ],
   "source": [
    "curated_columns"
   ]
  },
  {
   "cell_type": "code",
   "execution_count": 143,
   "metadata": {},
   "outputs": [
    {
     "name": "stdout",
     "output_type": "stream",
     "text": [
      "CPU times: user 23.4 s, sys: 30.9 s, total: 54.3 s\n",
      "Wall time: 14.8 s\n"
     ]
    }
   ],
   "source": [
    "%%time\n",
    "# create reports as needed\n",
    "cols = train_X.columns.to_list()\n",
    "all_plots = {}\n",
    "for ii, col1 in enumerate(cols): \n",
    "    for jj in range(ii+1, len(cols)):\n",
    "        col2 = cols[jj]\n",
    "        out = eda.get_bivariate_plots(train_X, x_cols=[col1], y_cols=[col2])\n",
    "        all_plots.update({f'{col2} vs {col1}': out})\n",
    "\n",
    "reports.create_report(all_plots, name='feature_analysis_bivariate')"
   ]
  },
  {
   "attachments": {},
   "cell_type": "markdown",
   "metadata": {},
   "source": [
    "A report containing the bivariate plot is available [here](https://drive.google.com/file/d/1WSGT3586tY-rOmZ57xGILbmL5ll9cSVT/view?usp=sharing)\n",
    "\n",
    "Alternatively, the above plots can be generated as a single html as below. The output from this is available [here](https://drive.google.com/file/d/1A2fz_bjYv8I3iaFDT75JQSDKeJEXxCtp/view?usp=sharing)"
   ]
  },
  {
   "cell_type": "code",
   "execution_count": 144,
   "metadata": {},
   "outputs": [],
   "source": [
    "reports.feature_interactions(train_X,'./feature_interaction_report.html')"
   ]
  },
  {
   "attachments": {},
   "cell_type": "markdown",
   "metadata": {},
   "source": [
    "### 3.2.3 Key Drivers - Interaction with Target variable"
   ]
  },
  {
   "cell_type": "code",
   "execution_count": 145,
   "metadata": {},
   "outputs": [
    {
     "data": {},
     "metadata": {},
     "output_type": "display_data"
    },
    {
     "data": {},
     "metadata": {},
     "output_type": "display_data"
    },
    {
     "data": {
      "application/vnd.holoviews_exec.v0+json": "",
      "text/html": [
       "<div id='131507'>\n",
       "  <div class=\"bk-root\" id=\"37464499-4e3f-4926-a078-87ed845c1c2b\" data-root-id=\"131507\"></div>\n",
       "</div>\n",
       "<script type=\"application/javascript\">(function(root) {\n",
       "  function embed_document(root) {\n",
       "    var docs_json = {\"69acd977-9b0d-45c8-a8bc-cab7bb87b838\":{\"defs\":[{\"extends\":null,\"module\":null,\"name\":\"ReactiveHTML1\",\"overrides\":[],\"properties\":[]},{\"extends\":null,\"module\":null,\"name\":\"FlexBox1\",\"overrides\":[],\"properties\":[{\"default\":\"flex-start\",\"kind\":null,\"name\":\"align_content\"},{\"default\":\"flex-start\",\"kind\":null,\"name\":\"align_items\"},{\"default\":\"row\",\"kind\":null,\"name\":\"flex_direction\"},{\"default\":\"wrap\",\"kind\":null,\"name\":\"flex_wrap\"},{\"default\":\"flex-start\",\"kind\":null,\"name\":\"justify_content\"}]},{\"extends\":null,\"module\":null,\"name\":\"GridStack1\",\"overrides\":[],\"properties\":[{\"default\":\"warn\",\"kind\":null,\"name\":\"mode\"},{\"default\":null,\"kind\":null,\"name\":\"ncols\"},{\"default\":null,\"kind\":null,\"name\":\"nrows\"},{\"default\":true,\"kind\":null,\"name\":\"allow_resize\"},{\"default\":true,\"kind\":null,\"name\":\"allow_drag\"},{\"default\":[],\"kind\":null,\"name\":\"state\"}]},{\"extends\":null,\"module\":null,\"name\":\"click1\",\"overrides\":[],\"properties\":[{\"default\":\"\",\"kind\":null,\"name\":\"terminal_output\"},{\"default\":\"\",\"kind\":null,\"name\":\"debug_name\"},{\"default\":0,\"kind\":null,\"name\":\"clears\"}]},{\"extends\":null,\"module\":null,\"name\":\"NotificationAreaBase1\",\"overrides\":[],\"properties\":[{\"default\":\"bottom-right\",\"kind\":null,\"name\":\"position\"},{\"default\":0,\"kind\":null,\"name\":\"_clear\"}]},{\"extends\":null,\"module\":null,\"name\":\"NotificationArea1\",\"overrides\":[],\"properties\":[{\"default\":[],\"kind\":null,\"name\":\"notifications\"},{\"default\":\"bottom-right\",\"kind\":null,\"name\":\"position\"},{\"default\":0,\"kind\":null,\"name\":\"_clear\"},{\"default\":[{\"background\":\"#ffc107\",\"icon\":{\"className\":\"fas fa-exclamation-triangle\",\"color\":\"white\",\"tagName\":\"i\"},\"type\":\"warning\"},{\"background\":\"#007bff\",\"icon\":{\"className\":\"fas fa-info-circle\",\"color\":\"white\",\"tagName\":\"i\"},\"type\":\"info\"}],\"kind\":null,\"name\":\"types\"}]},{\"extends\":null,\"module\":null,\"name\":\"Notification\",\"overrides\":[],\"properties\":[{\"default\":null,\"kind\":null,\"name\":\"background\"},{\"default\":3000,\"kind\":null,\"name\":\"duration\"},{\"default\":null,\"kind\":null,\"name\":\"icon\"},{\"default\":\"\",\"kind\":null,\"name\":\"message\"},{\"default\":null,\"kind\":null,\"name\":\"notification_type\"},{\"default\":false,\"kind\":null,\"name\":\"_destroyed\"}]},{\"extends\":null,\"module\":null,\"name\":\"TemplateActions1\",\"overrides\":[],\"properties\":[{\"default\":0,\"kind\":null,\"name\":\"open_modal\"},{\"default\":0,\"kind\":null,\"name\":\"close_modal\"}]},{\"extends\":null,\"module\":null,\"name\":\"MaterialTemplateActions1\",\"overrides\":[],\"properties\":[{\"default\":0,\"kind\":null,\"name\":\"open_modal\"},{\"default\":0,\"kind\":null,\"name\":\"close_modal\"}]}],\"roots\":{\"references\":[{\"attributes\":{\"source\":{\"id\":\"131540\"}},\"id\":\"131547\",\"type\":\"CDSView\"},{\"attributes\":{},\"id\":\"131528\",\"type\":\"PanTool\"},{\"attributes\":{\"fill_alpha\":{\"value\":0.2},\"fill_color\":{\"value\":\"#30a2da\"},\"hatch_alpha\":{\"value\":0.2},\"hatch_color\":{\"value\":\"#30a2da\"},\"height\":{\"value\":0.8},\"line_alpha\":{\"value\":0.2},\"right\":{\"field\":\"Pearson_correlation_with_Target\"},\"y\":{\"field\":\"index\"}},\"id\":\"131545\",\"type\":\"HBar\"},{\"attributes\":{\"child\":{\"id\":\"131511\"},\"name\":\"feature_correlation\",\"title\":\"feature_correlation\"},\"id\":\"131565\",\"type\":\"Panel\"},{\"attributes\":{\"fill_color\":{\"value\":\"#30a2da\"},\"hatch_color\":{\"value\":\"#30a2da\"},\"height\":{\"value\":0.8},\"right\":{\"field\":\"Pearson_correlation_with_Target\"},\"y\":{\"field\":\"index\"}},\"id\":\"131543\",\"type\":\"HBar\"},{\"attributes\":{\"callback\":null,\"renderers\":[{\"id\":\"131546\"}],\"tags\":[\"hv_created\"],\"tooltips\":[[\"index\",\"@{index}\"],[\"Pearson_correlation_with_Target\",\"@{Pearson_correlation_with_Target}\"]]},\"id\":\"131510\",\"type\":\"HoverTool\"},{\"attributes\":{},\"id\":\"131531\",\"type\":\"ResetTool\"},{\"attributes\":{\"end\":0.8116457438537492,\"reset_end\":0.8116457438537492,\"reset_start\":-0.6055857508426937,\"start\":-0.6055857508426937,\"tags\":[[[\"Pearson_correlation_with_Target\",\"Pearson_correlation_with_Target\",null]]]},\"id\":\"131508\",\"type\":\"Range1d\"},{\"attributes\":{},\"id\":\"131550\",\"type\":\"BasicTickFormatter\"},{\"attributes\":{},\"id\":\"131541\",\"type\":\"Selection\"},{\"attributes\":{\"factors\":[\"ocean_proximity_INLAND\",\"bedrooms_per_room\",\"population_per_household\",\"latitude\",\"longitude\",\"population\",\"ocean_proximity_ISLAND\",\"housing_median_age\",\"ocean_proximity_NEAR OCEAN\",\"total_rooms\",\"ocean_proximity_NEAR BAY\",\"rooms_per_household\",\"median_income\"],\"tags\":[[[\"index\",\"index\",null]]]},\"id\":\"131509\",\"type\":\"FactorRange\"},{\"attributes\":{},\"id\":\"131516\",\"type\":\"LinearScale\"},{\"attributes\":{\"fill_alpha\":{\"value\":0.1},\"fill_color\":{\"value\":\"#30a2da\"},\"hatch_alpha\":{\"value\":0.1},\"hatch_color\":{\"value\":\"#30a2da\"},\"height\":{\"value\":0.8},\"line_alpha\":{\"value\":0.1},\"right\":{\"field\":\"Pearson_correlation_with_Target\"},\"y\":{\"field\":\"index\"}},\"id\":\"131544\",\"type\":\"HBar\"},{\"attributes\":{\"below\":[{\"id\":\"131520\"}],\"center\":[{\"id\":\"131523\"},{\"id\":\"131526\"}],\"height\":300,\"left\":[{\"id\":\"131524\"}],\"margin\":[5,5,5,5],\"min_border_bottom\":10,\"min_border_left\":10,\"min_border_right\":10,\"min_border_top\":10,\"renderers\":[{\"id\":\"131546\"}],\"sizing_mode\":\"fixed\",\"title\":{\"id\":\"131512\"},\"toolbar\":{\"id\":\"131533\"},\"width\":700,\"x_range\":{\"id\":\"131508\"},\"x_scale\":{\"id\":\"131516\"},\"y_range\":{\"id\":\"131509\"},\"y_scale\":{\"id\":\"131518\"}},\"id\":\"131511\",\"subtype\":\"Figure\",\"type\":\"Plot\"},{\"attributes\":{\"coordinates\":null,\"data_source\":{\"id\":\"131540\"},\"glyph\":{\"id\":\"131543\"},\"group\":null,\"hover_glyph\":null,\"muted_glyph\":{\"id\":\"131545\"},\"nonselection_glyph\":{\"id\":\"131544\"},\"selection_glyph\":{\"id\":\"131548\"},\"view\":{\"id\":\"131547\"}},\"id\":\"131546\",\"type\":\"GlyphRenderer\"},{\"attributes\":{\"axis\":{\"id\":\"131520\"},\"coordinates\":null,\"grid_line_color\":null,\"group\":null,\"ticker\":null},\"id\":\"131523\",\"type\":\"Grid\"},{\"attributes\":{},\"id\":\"131521\",\"type\":\"BasicTicker\"},{\"attributes\":{\"client_comm_id\":\"24f6b0a266974970b7a19002cd0c0c69\",\"comm_id\":\"267b1516a943474688d3b3ea0ca4c60c\",\"plot_id\":\"131507\"},\"id\":\"131596\",\"type\":\"panel.models.comm_manager.CommManager\"},{\"attributes\":{},\"id\":\"131553\",\"type\":\"CategoricalTickFormatter\"},{\"attributes\":{\"data\":{\"Pearson_correlation_with_Target\":{\"__ndarray__\":\"5KQvbewy37/25L8d7CDSvxMkV8XFOse/1rXlQjNJwr/ChXCLF+KovxB0STVR15u/V09f72Damj8uRjIRa4W8PwpalMX7icE/CAHs2qTywz+g3cU4siHFP16l7mhrGtE/i7X3VoEx5j8=\",\"dtype\":\"float64\",\"order\":\"little\",\"shape\":[13]},\"index\":[\"ocean_proximity_INLAND\",\"bedrooms_per_room\",\"population_per_household\",\"latitude\",\"longitude\",\"population\",\"ocean_proximity_ISLAND\",\"housing_median_age\",\"ocean_proximity_NEAR OCEAN\",\"total_rooms\",\"ocean_proximity_NEAR BAY\",\"rooms_per_household\",\"median_income\"]},\"selected\":{\"id\":\"131541\"},\"selection_policy\":{\"id\":\"131562\"}},\"id\":\"131540\",\"type\":\"ColumnDataSource\"},{\"attributes\":{\"bottom_units\":\"screen\",\"coordinates\":null,\"fill_alpha\":0.5,\"fill_color\":\"lightgrey\",\"group\":null,\"left_units\":\"screen\",\"level\":\"overlay\",\"line_alpha\":1.0,\"line_color\":\"black\",\"line_dash\":[4,4],\"line_width\":2,\"right_units\":\"screen\",\"syncable\":false,\"top_units\":\"screen\"},\"id\":\"131532\",\"type\":\"BoxAnnotation\"},{\"attributes\":{},\"id\":\"131527\",\"type\":\"SaveTool\"},{\"attributes\":{},\"id\":\"131525\",\"type\":\"CategoricalTicker\"},{\"attributes\":{\"axis_label\":\"Pearson_correlation_with_Target\",\"coordinates\":null,\"formatter\":{\"id\":\"131550\"},\"group\":null,\"major_label_policy\":{\"id\":\"131551\"},\"ticker\":{\"id\":\"131521\"}},\"id\":\"131520\",\"type\":\"LinearAxis\"},{\"attributes\":{\"overlay\":{\"id\":\"131532\"}},\"id\":\"131530\",\"type\":\"BoxZoomTool\"},{\"attributes\":{},\"id\":\"131551\",\"type\":\"AllLabels\"},{\"attributes\":{},\"id\":\"131529\",\"type\":\"WheelZoomTool\"},{\"attributes\":{\"axis_label\":\"\",\"coordinates\":null,\"formatter\":{\"id\":\"131553\"},\"group\":null,\"major_label_policy\":{\"id\":\"131554\"},\"ticker\":{\"id\":\"131525\"}},\"id\":\"131524\",\"type\":\"CategoricalAxis\"},{\"attributes\":{\"tools\":[{\"id\":\"131510\"},{\"id\":\"131527\"},{\"id\":\"131528\"},{\"id\":\"131529\"},{\"id\":\"131530\"},{\"id\":\"131531\"}]},\"id\":\"131533\",\"type\":\"Toolbar\"},{\"attributes\":{\"axis\":{\"id\":\"131524\"},\"coordinates\":null,\"dimension\":1,\"grid_line_color\":null,\"group\":null,\"ticker\":null},\"id\":\"131526\",\"type\":\"Grid\"},{\"attributes\":{\"fill_alpha\":{\"value\":1.0},\"fill_color\":{\"value\":\"#30a2da\"},\"hatch_alpha\":{\"value\":1.0},\"hatch_color\":{\"value\":\"#30a2da\"},\"hatch_scale\":{\"value\":12.0},\"hatch_weight\":{\"value\":1.0},\"height\":{\"value\":0.8},\"left\":{\"value\":0},\"line_alpha\":{\"value\":1.0},\"line_cap\":{\"value\":\"butt\"},\"line_color\":{\"value\":\"black\"},\"line_dash\":{\"value\":[]},\"line_dash_offset\":{\"value\":0},\"line_join\":{\"value\":\"bevel\"},\"line_width\":{\"value\":1},\"right\":{\"field\":\"Pearson_correlation_with_Target\"},\"y\":{\"field\":\"index\"}},\"id\":\"131548\",\"type\":\"HBar\"},{\"attributes\":{},\"id\":\"131554\",\"type\":\"AllLabels\"},{\"attributes\":{\"margin\":[0,0,0,0],\"tabs\":[{\"id\":\"131565\"}]},\"id\":\"131507\",\"type\":\"panel.models.tabs.Tabs\"},{\"attributes\":{},\"id\":\"131562\",\"type\":\"UnionRenderers\"},{\"attributes\":{\"coordinates\":null,\"group\":null,\"text\":\"Feature Correlation with Target Function\",\"text_color\":\"black\",\"text_font_size\":\"12pt\"},\"id\":\"131512\",\"type\":\"Title\"},{\"attributes\":{},\"id\":\"131518\",\"type\":\"CategoricalScale\"}],\"root_ids\":[\"131507\",\"131596\"]},\"title\":\"Bokeh Application\",\"version\":\"2.4.3\"}};\n",
       "    var render_items = [{\"docid\":\"69acd977-9b0d-45c8-a8bc-cab7bb87b838\",\"root_ids\":[\"131507\"],\"roots\":{\"131507\":\"37464499-4e3f-4926-a078-87ed845c1c2b\"}}];\n",
       "    root.Bokeh.embed.embed_items_notebook(docs_json, render_items);\n",
       "  }\n",
       "  if (root.Bokeh !== undefined && root.Bokeh.Panel !== undefined) {\n",
       "    embed_document(root);\n",
       "  } else {\n",
       "    var attempts = 0;\n",
       "    var timer = setInterval(function(root) {\n",
       "      if (root.Bokeh !== undefined && root.Bokeh.Panel !== undefined) {\n",
       "        clearInterval(timer);\n",
       "        embed_document(root);\n",
       "      } else if (document.readyState == \"complete\") {\n",
       "        attempts++;\n",
       "        if (attempts > 200) {\n",
       "          clearInterval(timer);\n",
       "          console.log(\"Bokeh: ERROR: Unable to run BokehJS code because BokehJS library is missing\");\n",
       "        }\n",
       "      }\n",
       "    }, 25, root)\n",
       "  }\n",
       "})(window);</script>"
      ],
      "text/plain": [
       "Tabs\n",
       "    [0] HoloViews(Bars, name='feature_correlation')"
      ]
     },
     "execution_count": 145,
     "metadata": {
      "application/vnd.holoviews_exec.v0+json": {
       "id": "131507"
      }
     },
     "output_type": "execute_result"
    }
   ],
   "source": [
    "out = eda.get_target_correlation(train_X, train_y, y_continuous=True)\n",
    "display_as_tabs([(k, v) for k,v in out.items()])"
   ]
  },
  {
   "cell_type": "code",
   "execution_count": 146,
   "metadata": {},
   "outputs": [
    {
     "data": {},
     "metadata": {},
     "output_type": "display_data"
    },
    {
     "data": {},
     "metadata": {},
     "output_type": "display_data"
    },
    {
     "data": {
      "application/vnd.holoviews_exec.v0+json": "",
      "text/html": [
       "<div id='131647'>\n",
       "  <div class=\"bk-root\" id=\"ca1b5ddd-f073-4212-8833-3e2808bd0df0\" data-root-id=\"131647\"></div>\n",
       "</div>\n",
       "<script type=\"application/javascript\">(function(root) {\n",
       "  function embed_document(root) {\n",
       "    var docs_json = {\"58a1e36e-d2e5-48cb-912a-0952758d664d\":{\"defs\":[{\"extends\":null,\"module\":null,\"name\":\"ReactiveHTML1\",\"overrides\":[],\"properties\":[]},{\"extends\":null,\"module\":null,\"name\":\"FlexBox1\",\"overrides\":[],\"properties\":[{\"default\":\"flex-start\",\"kind\":null,\"name\":\"align_content\"},{\"default\":\"flex-start\",\"kind\":null,\"name\":\"align_items\"},{\"default\":\"row\",\"kind\":null,\"name\":\"flex_direction\"},{\"default\":\"wrap\",\"kind\":null,\"name\":\"flex_wrap\"},{\"default\":\"flex-start\",\"kind\":null,\"name\":\"justify_content\"}]},{\"extends\":null,\"module\":null,\"name\":\"GridStack1\",\"overrides\":[],\"properties\":[{\"default\":\"warn\",\"kind\":null,\"name\":\"mode\"},{\"default\":null,\"kind\":null,\"name\":\"ncols\"},{\"default\":null,\"kind\":null,\"name\":\"nrows\"},{\"default\":true,\"kind\":null,\"name\":\"allow_resize\"},{\"default\":true,\"kind\":null,\"name\":\"allow_drag\"},{\"default\":[],\"kind\":null,\"name\":\"state\"}]},{\"extends\":null,\"module\":null,\"name\":\"click1\",\"overrides\":[],\"properties\":[{\"default\":\"\",\"kind\":null,\"name\":\"terminal_output\"},{\"default\":\"\",\"kind\":null,\"name\":\"debug_name\"},{\"default\":0,\"kind\":null,\"name\":\"clears\"}]},{\"extends\":null,\"module\":null,\"name\":\"NotificationAreaBase1\",\"overrides\":[],\"properties\":[{\"default\":\"bottom-right\",\"kind\":null,\"name\":\"position\"},{\"default\":0,\"kind\":null,\"name\":\"_clear\"}]},{\"extends\":null,\"module\":null,\"name\":\"NotificationArea1\",\"overrides\":[],\"properties\":[{\"default\":[],\"kind\":null,\"name\":\"notifications\"},{\"default\":\"bottom-right\",\"kind\":null,\"name\":\"position\"},{\"default\":0,\"kind\":null,\"name\":\"_clear\"},{\"default\":[{\"background\":\"#ffc107\",\"icon\":{\"className\":\"fas fa-exclamation-triangle\",\"color\":\"white\",\"tagName\":\"i\"},\"type\":\"warning\"},{\"background\":\"#007bff\",\"icon\":{\"className\":\"fas fa-info-circle\",\"color\":\"white\",\"tagName\":\"i\"},\"type\":\"info\"}],\"kind\":null,\"name\":\"types\"}]},{\"extends\":null,\"module\":null,\"name\":\"Notification\",\"overrides\":[],\"properties\":[{\"default\":null,\"kind\":null,\"name\":\"background\"},{\"default\":3000,\"kind\":null,\"name\":\"duration\"},{\"default\":null,\"kind\":null,\"name\":\"icon\"},{\"default\":\"\",\"kind\":null,\"name\":\"message\"},{\"default\":null,\"kind\":null,\"name\":\"notification_type\"},{\"default\":false,\"kind\":null,\"name\":\"_destroyed\"}]},{\"extends\":null,\"module\":null,\"name\":\"TemplateActions1\",\"overrides\":[],\"properties\":[{\"default\":0,\"kind\":null,\"name\":\"open_modal\"},{\"default\":0,\"kind\":null,\"name\":\"close_modal\"}]},{\"extends\":null,\"module\":null,\"name\":\"MaterialTemplateActions1\",\"overrides\":[],\"properties\":[{\"default\":0,\"kind\":null,\"name\":\"open_modal\"},{\"default\":0,\"kind\":null,\"name\":\"close_modal\"}]}],\"roots\":{\"references\":[{\"attributes\":{},\"id\":\"131702\",\"type\":\"UnionRenderers\"},{\"attributes\":{\"child\":{\"id\":\"131706\"},\"name\":\"shap_values\",\"title\":\"shap_values\"},\"id\":\"131707\",\"type\":\"Panel\"},{\"attributes\":{\"fill_alpha\":{\"value\":0.1},\"fill_color\":{\"value\":\"#30a2da\"},\"hatch_alpha\":{\"value\":0.1},\"hatch_color\":{\"value\":\"#30a2da\"},\"height\":{\"value\":0.8},\"line_alpha\":{\"value\":0.1},\"right\":{\"field\":\"importance\"},\"y\":{\"field\":\"index\"}},\"id\":\"131684\",\"type\":\"HBar\"},{\"attributes\":{},\"id\":\"131668\",\"type\":\"PanTool\"},{\"attributes\":{\"fill_color\":{\"value\":\"#30a2da\"},\"hatch_color\":{\"value\":\"#30a2da\"},\"height\":{\"value\":0.8},\"right\":{\"field\":\"importance\"},\"y\":{\"field\":\"index\"}},\"id\":\"131683\",\"type\":\"HBar\"},{\"attributes\":{\"margin\":[0,0,0,0],\"tabs\":[{\"id\":\"131705\"},{\"id\":\"131707\"}]},\"id\":\"131647\",\"type\":\"panel.models.tabs.Tabs\"},{\"attributes\":{},\"id\":\"131661\",\"type\":\"BasicTicker\"},{\"attributes\":{\"factors\":[\"population\",\"bedrooms_per_room\",\"latitude\",\"longitude\",\"ocean_proximity_INLAND\",\"ocean_proximity_ISLAND\",\"ocean_proximity_NEAR BAY\",\"ocean_proximity_NEAR OCEAN\",\"population_per_household\",\"rooms_per_household\",\"total_rooms\",\"housing_median_age\",\"median_income\"],\"tags\":[[[\"index\",\"index\",null]]]},\"id\":\"131649\",\"type\":\"FactorRange\"},{\"attributes\":{\"coordinates\":null,\"group\":null,\"text\":\"Feature Importances from LassoCV\",\"text_color\":\"black\",\"text_font_size\":\"12pt\"},\"id\":\"131652\",\"type\":\"Title\"},{\"attributes\":{},\"id\":\"131667\",\"type\":\"SaveTool\"},{\"attributes\":{\"fill_alpha\":{\"value\":0.2},\"fill_color\":{\"value\":\"#30a2da\"},\"hatch_alpha\":{\"value\":0.2},\"hatch_color\":{\"value\":\"#30a2da\"},\"height\":{\"value\":0.8},\"line_alpha\":{\"value\":0.2},\"right\":{\"field\":\"importance\"},\"y\":{\"field\":\"index\"}},\"id\":\"131685\",\"type\":\"HBar\"},{\"attributes\":{\"overlay\":{\"id\":\"131672\"}},\"id\":\"131670\",\"type\":\"BoxZoomTool\"},{\"attributes\":{\"axis\":{\"id\":\"131660\"},\"coordinates\":null,\"grid_line_color\":null,\"group\":null,\"ticker\":null},\"id\":\"131663\",\"type\":\"Grid\"},{\"attributes\":{\"client_comm_id\":\"7425ca3a7b4a409aa040d349807380be\",\"comm_id\":\"c7e6f33425934310be031b0bccfd663a\",\"plot_id\":\"131647\"},\"id\":\"131738\",\"type\":\"panel.models.comm_manager.CommManager\"},{\"attributes\":{},\"id\":\"131693\",\"type\":\"CategoricalTickFormatter\"},{\"attributes\":{},\"id\":\"131658\",\"type\":\"CategoricalScale\"},{\"attributes\":{\"tools\":[{\"id\":\"131650\"},{\"id\":\"131667\"},{\"id\":\"131668\"},{\"id\":\"131669\"},{\"id\":\"131670\"},{\"id\":\"131671\"}]},\"id\":\"131673\",\"type\":\"Toolbar\"},{\"attributes\":{},\"id\":\"131656\",\"type\":\"LinearScale\"},{\"attributes\":{\"axis\":{\"id\":\"131664\"},\"coordinates\":null,\"dimension\":1,\"grid_line_color\":null,\"group\":null,\"ticker\":null},\"id\":\"131666\",\"type\":\"Grid\"},{\"attributes\":{},\"id\":\"131691\",\"type\":\"AllLabels\"},{\"attributes\":{\"axis_label\":\"Features\",\"coordinates\":null,\"formatter\":{\"id\":\"131693\"},\"group\":null,\"major_label_policy\":{\"id\":\"131694\"},\"ticker\":{\"id\":\"131665\"}},\"id\":\"131664\",\"type\":\"CategoricalAxis\"},{\"attributes\":{\"end\":433.855959574404,\"reset_end\":433.855959574404,\"reset_start\":-170.0929541294512,\"start\":-170.0929541294512,\"tags\":[[[\"importance\",\"importance\",null]]]},\"id\":\"131648\",\"type\":\"Range1d\"},{\"attributes\":{\"data\":{\"importance\":{\"__ndarray__\":\"fpJ/YOPwXcAAAAAAAAAAAAAAAAAAAACAAAAAAAAAAIAAAAAAAAAAgAAAAAAAAAAAAAAAAAAAAAAAAAAAAAAAAAAAAAAAAACAAAAAAAAAAIAvdvNta+ljQA+sGVcMFWRAgHBSHW74d0A=\",\"dtype\":\"float64\",\"order\":\"little\",\"shape\":[13]},\"index\":[\"population\",\"bedrooms_per_room\",\"latitude\",\"longitude\",\"ocean_proximity_INLAND\",\"ocean_proximity_ISLAND\",\"ocean_proximity_NEAR BAY\",\"ocean_proximity_NEAR OCEAN\",\"population_per_household\",\"rooms_per_household\",\"total_rooms\",\"housing_median_age\",\"median_income\"]},\"selected\":{\"id\":\"131681\"},\"selection_policy\":{\"id\":\"131702\"}},\"id\":\"131680\",\"type\":\"ColumnDataSource\"},{\"attributes\":{},\"id\":\"131690\",\"type\":\"BasicTickFormatter\"},{\"attributes\":{},\"id\":\"131669\",\"type\":\"WheelZoomTool\"},{\"attributes\":{\"coordinates\":null,\"data_source\":{\"id\":\"131680\"},\"glyph\":{\"id\":\"131683\"},\"group\":null,\"hover_glyph\":null,\"muted_glyph\":{\"id\":\"131685\"},\"nonselection_glyph\":{\"id\":\"131684\"},\"selection_glyph\":{\"id\":\"131688\"},\"view\":{\"id\":\"131687\"}},\"id\":\"131686\",\"type\":\"GlyphRenderer\"},{\"attributes\":{\"fill_alpha\":{\"value\":1.0},\"fill_color\":{\"value\":\"#30a2da\"},\"hatch_alpha\":{\"value\":1.0},\"hatch_color\":{\"value\":\"#30a2da\"},\"hatch_scale\":{\"value\":12.0},\"hatch_weight\":{\"value\":1.0},\"height\":{\"value\":0.8},\"left\":{\"value\":0},\"line_alpha\":{\"value\":1.0},\"line_cap\":{\"value\":\"butt\"},\"line_color\":{\"value\":\"black\"},\"line_dash\":{\"value\":[]},\"line_dash_offset\":{\"value\":0},\"line_join\":{\"value\":\"bevel\"},\"line_width\":{\"value\":1},\"right\":{\"field\":\"importance\"},\"y\":{\"field\":\"index\"}},\"id\":\"131688\",\"type\":\"HBar\"},{\"attributes\":{\"child\":{\"id\":\"131651\"},\"name\":\"from_model\",\"title\":\"from_model\"},\"id\":\"131705\",\"type\":\"Panel\"},{\"attributes\":{\"below\":[{\"id\":\"131660\"}],\"center\":[{\"id\":\"131663\"},{\"id\":\"131666\"}],\"height\":300,\"left\":[{\"id\":\"131664\"}],\"margin\":[5,5,5,5],\"min_border_bottom\":10,\"min_border_left\":10,\"min_border_right\":10,\"min_border_top\":10,\"renderers\":[{\"id\":\"131686\"}],\"sizing_mode\":\"fixed\",\"title\":{\"id\":\"131652\"},\"toolbar\":{\"id\":\"131673\"},\"width\":700,\"x_range\":{\"id\":\"131648\"},\"x_scale\":{\"id\":\"131656\"},\"y_range\":{\"id\":\"131649\"},\"y_scale\":{\"id\":\"131658\"}},\"id\":\"131651\",\"subtype\":\"Figure\",\"type\":\"Plot\"},{\"attributes\":{\"axis_label\":\"Feature Importance [determined by coeff * mean(x)]\",\"coordinates\":null,\"formatter\":{\"id\":\"131690\"},\"group\":null,\"major_label_policy\":{\"id\":\"131691\"},\"ticker\":{\"id\":\"131661\"}},\"id\":\"131660\",\"type\":\"LinearAxis\"},{\"attributes\":{},\"id\":\"131681\",\"type\":\"Selection\"},{\"attributes\":{},\"id\":\"131665\",\"type\":\"CategoricalTicker\"},{\"attributes\":{},\"id\":\"131671\",\"type\":\"ResetTool\"},{\"attributes\":{\"source\":{\"id\":\"131680\"}},\"id\":\"131687\",\"type\":\"CDSView\"},{\"attributes\":{\"callback\":null,\"renderers\":[{\"id\":\"131686\"}],\"tags\":[\"hv_created\"],\"tooltips\":[[\"index\",\"@{index}\"],[\"importance\",\"@{importance}\"]]},\"id\":\"131650\",\"type\":\"HoverTool\"},{\"attributes\":{\"height\":670,\"margin\":[5,5,5,5],\"name\":\"shap_values\",\"text\":\"&lt;img src=&quot;data:image/png;base64,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&quot; width=&quot;800px&quot; height=&quot;670px&quot; alt=&quot;&quot;&gt;&lt;/img&gt;\",\"width\":800},\"id\":\"131706\",\"type\":\"panel.models.markup.HTML\"},{\"attributes\":{\"bottom_units\":\"screen\",\"coordinates\":null,\"fill_alpha\":0.5,\"fill_color\":\"lightgrey\",\"group\":null,\"left_units\":\"screen\",\"level\":\"overlay\",\"line_alpha\":1.0,\"line_color\":\"black\",\"line_dash\":[4,4],\"line_width\":2,\"right_units\":\"screen\",\"syncable\":false,\"top_units\":\"screen\"},\"id\":\"131672\",\"type\":\"BoxAnnotation\"},{\"attributes\":{},\"id\":\"131694\",\"type\":\"AllLabels\"}],\"root_ids\":[\"131647\",\"131738\"]},\"title\":\"Bokeh Application\",\"version\":\"2.4.3\"}};\n",
       "    var render_items = [{\"docid\":\"58a1e36e-d2e5-48cb-912a-0952758d664d\",\"root_ids\":[\"131647\"],\"roots\":{\"131647\":\"ca1b5ddd-f073-4212-8833-3e2808bd0df0\"}}];\n",
       "    root.Bokeh.embed.embed_items_notebook(docs_json, render_items);\n",
       "  }\n",
       "  if (root.Bokeh !== undefined && root.Bokeh.Panel !== undefined) {\n",
       "    embed_document(root);\n",
       "  } else {\n",
       "    var attempts = 0;\n",
       "    var timer = setInterval(function(root) {\n",
       "      if (root.Bokeh !== undefined && root.Bokeh.Panel !== undefined) {\n",
       "        clearInterval(timer);\n",
       "        embed_document(root);\n",
       "      } else if (document.readyState == \"complete\") {\n",
       "        attempts++;\n",
       "        if (attempts > 200) {\n",
       "          clearInterval(timer);\n",
       "          console.log(\"Bokeh: ERROR: Unable to run BokehJS code because BokehJS library is missing\");\n",
       "        }\n",
       "      }\n",
       "    }, 25, root)\n",
       "  }\n",
       "})(window);</script>"
      ],
      "text/plain": [
       "Tabs\n",
       "    [0] HoloViews(Bars, name='from_model')\n",
       "    [1] Matplotlib(Figure, name='shap_values')"
      ]
     },
     "execution_count": 146,
     "metadata": {
      "application/vnd.holoviews_exec.v0+json": {
       "id": "131647"
      }
     },
     "output_type": "execute_result"
    }
   ],
   "source": [
    "out = eda.get_feature_importances(train_X, train_y, y_continuous=True)\n",
    "display_as_tabs([(k, v) for k,v in out.items()])"
   ]
  },
  {
   "attachments": {},
   "cell_type": "markdown",
   "metadata": {},
   "source": [
    "Key drivers report like feature importance, bivariate plots can be obtained as below"
   ]
  },
  {
   "cell_type": "code",
   "execution_count": 147,
   "metadata": {},
   "outputs": [],
   "source": [
    "reports.key_drivers(train_X,train_y, './key_drivers_report.html', y_continuous=True)"
   ]
  },
  {
   "attachments": {},
   "cell_type": "markdown",
   "metadata": {},
   "source": [
    "**Dev Notes**\n",
    "<details>\n",
    "    \n",
    "- The SHAP plots and bivariate plots in key drivers reports can be obtained by including quick=False as a parameter to key_drivers function call. \n",
    "- SHAP plots and bivariate plots often take long depending on data shape.\n",
    "- The plot with shap is present [here](https://drive.google.com/file/d/1JOTMBLiv3LEqZ-kxZz0RokW9v5UyiGva/view?usp=sharing)\n",
    "\n",
    "</details>"
   ]
  },
  {
   "attachments": {},
   "cell_type": "markdown",
   "metadata": {},
   "source": [
    "\n",
    "All the plots like feature analysis, interaction, key drivers can be obtained as a single plot using data exploration method as shown below. The output from this is available [here](https://drive.google.com/file/d/1209MzmSSEhiTYuPfHpaVXFXUVbkaJm0B/view?usp=sharing)"
   ]
  },
  {
   "cell_type": "code",
   "execution_count": 148,
   "metadata": {},
   "outputs": [
    {
     "name": "stderr",
     "output_type": "stream",
     "text": [
      "p-value may not be accurate for N > 5000.\n"
     ]
    }
   ],
   "source": [
    "reports.data_exploration(train_X,train_y,'./data_exploration_report.html', y_continuous=True)"
   ]
  },
  {
   "cell_type": "code",
   "execution_count": 149,
   "metadata": {},
   "outputs": [],
   "source": [
    "# saving the list of relevant columns\n",
    "save_pipeline(curated_columns, op.abspath(op.join(artifacts_folder, 'curated_columns.joblib')))\n",
    "\n",
    "# save the feature pipeline\n",
    "# save_pipeline(features_transformer, op.abspath(op.join(artifacts_folder, 'features.joblib')))"
   ]
  },
  {
   "attachments": {},
   "cell_type": "markdown",
   "metadata": {},
   "source": [
    "# 4 Modelling"
   ]
  },
  {
   "attachments": {},
   "cell_type": "markdown",
   "metadata": {},
   "source": [
    "## 4.1 Modelling - Linear Regression"
   ]
  },
  {
   "attachments": {},
   "cell_type": "markdown",
   "metadata": {},
   "source": [
    "### 4.1.1 Feature Selection(Specific to Regression)\n",
    "\n",
    "- Selecting Features specific to regression\n",
    "- VIF : measure of the amount of multi-collinearity in a set of multiple regressor variables. \n",
    "- On a case to case basis VIF thresholds change. Generally 5 or 10 are acceptable levels.\n",
    "- Usually on a recursive basis when removing the most collinear variable, there can be shuffle in VIF. \n",
    "- Often this section will not be part of the production code."
   ]
  },
  {
   "cell_type": "code",
   "execution_count": 150,
   "metadata": {},
   "outputs": [],
   "source": [
    "cols = list(train_X.columns)\n",
    "vif = eda.calc_vif(train_X)\n",
    "while max(vif.VIF) > 15:\n",
    "    #removing the largest variable from VIF\n",
    "    cols.remove(vif[(vif.VIF==vif.VIF.max())].variables.tolist()[0])\n",
    "    vif = eda.calc_vif(train_X[cols])"
   ]
  },
  {
   "cell_type": "code",
   "execution_count": 151,
   "metadata": {},
   "outputs": [],
   "source": [
    "reg_vars = vif.query('VIF < 15').variables\n",
    "reg_vars = list(reg_vars)"
   ]
  },
  {
   "attachments": {},
   "cell_type": "markdown",
   "metadata": {},
   "source": [
    "### 4.1.2 Data transformations"
   ]
  },
  {
   "cell_type": "code",
   "execution_count": 152,
   "metadata": {},
   "outputs": [],
   "source": [
    "# Custom Transformations like these can be utilised\n",
    "def _custom_data_transform(df, cols2keep=None):\n",
    "    \"\"\"Transformation to drop some columns in the data\n",
    "    \n",
    "    Parameters\n",
    "    ----------\n",
    "        df - pd.DataFrame\n",
    "        cols2keep - columns to keep in the dataframe\n",
    "    \"\"\"\n",
    "    cols2keep = cols2keep or []\n",
    "    if len(cols2keep):\n",
    "        return (df\n",
    "                .select_columns(cols2keep))\n",
    "    else:\n",
    "        return df"
   ]
  },
  {
   "attachments": {},
   "cell_type": "markdown",
   "metadata": {},
   "source": [
    "### 4.1.4 Model Pipeline Build\n",
    "\n",
    "- This will be part of the production code (training only)."
   ]
  },
  {
   "cell_type": "code",
   "execution_count": 153,
   "metadata": {},
   "outputs": [
    {
     "data": {
      "text/html": [
       "<style>#sk-container-id-5 {color: black;background-color: white;}#sk-container-id-5 pre{padding: 0;}#sk-container-id-5 div.sk-toggleable {background-color: white;}#sk-container-id-5 label.sk-toggleable__label {cursor: pointer;display: block;width: 100%;margin-bottom: 0;padding: 0.3em;box-sizing: border-box;text-align: center;}#sk-container-id-5 label.sk-toggleable__label-arrow:before {content: \"▸\";float: left;margin-right: 0.25em;color: #696969;}#sk-container-id-5 label.sk-toggleable__label-arrow:hover:before {color: black;}#sk-container-id-5 div.sk-estimator:hover label.sk-toggleable__label-arrow:before {color: black;}#sk-container-id-5 div.sk-toggleable__content {max-height: 0;max-width: 0;overflow: hidden;text-align: left;background-color: #f0f8ff;}#sk-container-id-5 div.sk-toggleable__content pre {margin: 0.2em;color: black;border-radius: 0.25em;background-color: #f0f8ff;}#sk-container-id-5 input.sk-toggleable__control:checked~div.sk-toggleable__content {max-height: 200px;max-width: 100%;overflow: auto;}#sk-container-id-5 input.sk-toggleable__control:checked~label.sk-toggleable__label-arrow:before {content: \"▾\";}#sk-container-id-5 div.sk-estimator input.sk-toggleable__control:checked~label.sk-toggleable__label {background-color: #d4ebff;}#sk-container-id-5 div.sk-label input.sk-toggleable__control:checked~label.sk-toggleable__label {background-color: #d4ebff;}#sk-container-id-5 input.sk-hidden--visually {border: 0;clip: rect(1px 1px 1px 1px);clip: rect(1px, 1px, 1px, 1px);height: 1px;margin: -1px;overflow: hidden;padding: 0;position: absolute;width: 1px;}#sk-container-id-5 div.sk-estimator {font-family: monospace;background-color: #f0f8ff;border: 1px dotted black;border-radius: 0.25em;box-sizing: border-box;margin-bottom: 0.5em;}#sk-container-id-5 div.sk-estimator:hover {background-color: #d4ebff;}#sk-container-id-5 div.sk-parallel-item::after {content: \"\";width: 100%;border-bottom: 1px solid gray;flex-grow: 1;}#sk-container-id-5 div.sk-label:hover label.sk-toggleable__label {background-color: #d4ebff;}#sk-container-id-5 div.sk-serial::before {content: \"\";position: absolute;border-left: 1px solid gray;box-sizing: border-box;top: 0;bottom: 0;left: 50%;z-index: 0;}#sk-container-id-5 div.sk-serial {display: flex;flex-direction: column;align-items: center;background-color: white;padding-right: 0.2em;padding-left: 0.2em;position: relative;}#sk-container-id-5 div.sk-item {position: relative;z-index: 1;}#sk-container-id-5 div.sk-parallel {display: flex;align-items: stretch;justify-content: center;background-color: white;position: relative;}#sk-container-id-5 div.sk-item::before, #sk-container-id-5 div.sk-parallel-item::before {content: \"\";position: absolute;border-left: 1px solid gray;box-sizing: border-box;top: 0;bottom: 0;left: 50%;z-index: -1;}#sk-container-id-5 div.sk-parallel-item {display: flex;flex-direction: column;z-index: 1;position: relative;background-color: white;}#sk-container-id-5 div.sk-parallel-item:first-child::after {align-self: flex-end;width: 50%;}#sk-container-id-5 div.sk-parallel-item:last-child::after {align-self: flex-start;width: 50%;}#sk-container-id-5 div.sk-parallel-item:only-child::after {width: 0;}#sk-container-id-5 div.sk-dashed-wrapped {border: 1px dashed gray;margin: 0 0.4em 0.5em 0.4em;box-sizing: border-box;padding-bottom: 0.4em;background-color: white;}#sk-container-id-5 div.sk-label label {font-family: monospace;font-weight: bold;display: inline-block;line-height: 1.2em;}#sk-container-id-5 div.sk-label-container {text-align: center;}#sk-container-id-5 div.sk-container {/* jupyter's `normalize.less` sets `[hidden] { display: none; }` but bootstrap.min.css set `[hidden] { display: none !important; }` so we also need the `!important` here to be able to override the default hidden behavior on the sphinx rendered scikit-learn.org. See: https://github.com/scikit-learn/scikit-learn/issues/21755 */display: inline-block !important;position: relative;}#sk-container-id-5 div.sk-text-repr-fallback {display: none;}</style><div id=\"sk-container-id-5\" class=\"sk-top-container\"><div class=\"sk-text-repr-fallback\"><pre>Pipeline(steps=[(&#x27;&#x27;,\n",
       "                 FunctionTransformer(func=&lt;function _custom_data_transform at 0x7f2be6047670&gt;,\n",
       "                                     kw_args={&#x27;cols2keep&#x27;: [&#x27;housing_median_age&#x27;,\n",
       "                                                            &#x27;median_income&#x27;,\n",
       "                                                            &#x27;bedrooms_per_room&#x27;,\n",
       "                                                            &#x27;population_per_household&#x27;,\n",
       "                                                            &#x27;ocean_proximity_INLAND&#x27;,\n",
       "                                                            &#x27;ocean_proximity_NEAR &#x27;\n",
       "                                                            &#x27;BAY&#x27;,\n",
       "                                                            &#x27;total_rooms&#x27;,\n",
       "                                                            &#x27;ocean_proximity_NEAR &#x27;\n",
       "                                                            &#x27;OCEAN&#x27;,\n",
       "                                                            &#x27;ocean_proximity_ISLAND&#x27;]})),\n",
       "                (&#x27;estimator&#x27;, SKLStatsmodelOLS())])</pre><b>In a Jupyter environment, please rerun this cell to show the HTML representation or trust the notebook. <br />On GitHub, the HTML representation is unable to render, please try loading this page with nbviewer.org.</b></div><div class=\"sk-container\" hidden><div class=\"sk-item sk-dashed-wrapped\"><div class=\"sk-label-container\"><div class=\"sk-label sk-toggleable\"><input class=\"sk-toggleable__control sk-hidden--visually\" id=\"sk-estimator-id-12\" type=\"checkbox\" ><label for=\"sk-estimator-id-12\" class=\"sk-toggleable__label sk-toggleable__label-arrow\">Pipeline</label><div class=\"sk-toggleable__content\"><pre>Pipeline(steps=[(&#x27;&#x27;,\n",
       "                 FunctionTransformer(func=&lt;function _custom_data_transform at 0x7f2be6047670&gt;,\n",
       "                                     kw_args={&#x27;cols2keep&#x27;: [&#x27;housing_median_age&#x27;,\n",
       "                                                            &#x27;median_income&#x27;,\n",
       "                                                            &#x27;bedrooms_per_room&#x27;,\n",
       "                                                            &#x27;population_per_household&#x27;,\n",
       "                                                            &#x27;ocean_proximity_INLAND&#x27;,\n",
       "                                                            &#x27;ocean_proximity_NEAR &#x27;\n",
       "                                                            &#x27;BAY&#x27;,\n",
       "                                                            &#x27;total_rooms&#x27;,\n",
       "                                                            &#x27;ocean_proximity_NEAR &#x27;\n",
       "                                                            &#x27;OCEAN&#x27;,\n",
       "                                                            &#x27;ocean_proximity_ISLAND&#x27;]})),\n",
       "                (&#x27;estimator&#x27;, SKLStatsmodelOLS())])</pre></div></div></div><div class=\"sk-serial\"><div class=\"sk-item\"><div class=\"sk-estimator sk-toggleable\"><input class=\"sk-toggleable__control sk-hidden--visually\" id=\"sk-estimator-id-13\" type=\"checkbox\" ><label for=\"sk-estimator-id-13\" class=\"sk-toggleable__label sk-toggleable__label-arrow\">FunctionTransformer</label><div class=\"sk-toggleable__content\"><pre>FunctionTransformer(func=&lt;function _custom_data_transform at 0x7f2be6047670&gt;,\n",
       "                    kw_args={&#x27;cols2keep&#x27;: [&#x27;housing_median_age&#x27;,\n",
       "                                           &#x27;median_income&#x27;, &#x27;bedrooms_per_room&#x27;,\n",
       "                                           &#x27;population_per_household&#x27;,\n",
       "                                           &#x27;ocean_proximity_INLAND&#x27;,\n",
       "                                           &#x27;ocean_proximity_NEAR BAY&#x27;,\n",
       "                                           &#x27;total_rooms&#x27;,\n",
       "                                           &#x27;ocean_proximity_NEAR OCEAN&#x27;,\n",
       "                                           &#x27;ocean_proximity_ISLAND&#x27;]})</pre></div></div></div><div class=\"sk-item\"><div class=\"sk-estimator sk-toggleable\"><input class=\"sk-toggleable__control sk-hidden--visually\" id=\"sk-estimator-id-14\" type=\"checkbox\" ><label for=\"sk-estimator-id-14\" class=\"sk-toggleable__label sk-toggleable__label-arrow\">SKLStatsmodelOLS</label><div class=\"sk-toggleable__content\"><pre>SKLStatsmodelOLS()</pre></div></div></div></div></div></div></div>"
      ],
      "text/plain": [
       "Pipeline(steps=[('',\n",
       "                 FunctionTransformer(func=<function _custom_data_transform at 0x7f2be6047670>,\n",
       "                                     kw_args={'cols2keep': ['housing_median_age',\n",
       "                                                            'median_income',\n",
       "                                                            'bedrooms_per_room',\n",
       "                                                            'population_per_household',\n",
       "                                                            'ocean_proximity_INLAND',\n",
       "                                                            'ocean_proximity_NEAR '\n",
       "                                                            'BAY',\n",
       "                                                            'total_rooms',\n",
       "                                                            'ocean_proximity_NEAR '\n",
       "                                                            'OCEAN',\n",
       "                                                            'ocean_proximity_ISLAND']})),\n",
       "                ('estimator', SKLStatsmodelOLS())])"
      ]
     },
     "execution_count": 153,
     "metadata": {},
     "output_type": "execute_result"
    }
   ],
   "source": [
    "reg_ppln_ols = Pipeline([\n",
    "    ('',FunctionTransformer(_custom_data_transform, kw_args={'cols2keep':reg_vars})),\n",
    "    ('estimator', SKLStatsmodelOLS())\n",
    "])\n",
    "reg_ppln_ols.fit(train_X, train_y.values.ravel())\n"
   ]
  },
  {
   "cell_type": "code",
   "execution_count": 154,
   "metadata": {},
   "outputs": [
    {
     "data": {
      "text/html": [
       "<table class=\"simpletable\">\n",
       "<caption>OLS Regression Results</caption>\n",
       "<tr>\n",
       "  <th>Dep. Variable:</th>            <td>y</td>        <th>  R-squared:         </th>  <td>   0.649</td>  \n",
       "</tr>\n",
       "<tr>\n",
       "  <th>Model:</th>                   <td>OLS</td>       <th>  Adj. R-squared:    </th>  <td>   0.649</td>  \n",
       "</tr>\n",
       "<tr>\n",
       "  <th>Method:</th>             <td>Least Squares</td>  <th>  F-statistic:       </th>  <td>   3362.</td>  \n",
       "</tr>\n",
       "<tr>\n",
       "  <th>Date:</th>             <td>Wed, 02 Aug 2023</td> <th>  Prob (F-statistic):</th>   <td>  0.00</td>   \n",
       "</tr>\n",
       "<tr>\n",
       "  <th>Time:</th>                 <td>15:48:58</td>     <th>  Log-Likelihood:    </th> <td>-2.0519e+05</td>\n",
       "</tr>\n",
       "<tr>\n",
       "  <th>No. Observations:</th>      <td> 16346</td>      <th>  AIC:               </th>  <td>4.104e+05</td> \n",
       "</tr>\n",
       "<tr>\n",
       "  <th>Df Residuals:</th>          <td> 16336</td>      <th>  BIC:               </th>  <td>4.105e+05</td> \n",
       "</tr>\n",
       "<tr>\n",
       "  <th>Df Model:</th>              <td>     9</td>      <th>                     </th>      <td> </td>     \n",
       "</tr>\n",
       "<tr>\n",
       "  <th>Covariance Type:</th>      <td>nonrobust</td>    <th>                     </th>      <td> </td>     \n",
       "</tr>\n",
       "</table>\n",
       "<table class=\"simpletable\">\n",
       "<tr>\n",
       "               <td></td>                 <th>coef</th>     <th>std err</th>      <th>t</th>      <th>P>|t|</th>  <th>[0.025</th>    <th>0.975]</th>  \n",
       "</tr>\n",
       "<tr>\n",
       "  <th>intercept</th>                  <td>-8.618e+04</td> <td> 5835.264</td> <td>  -14.769</td> <td> 0.000</td> <td>-9.76e+04</td> <td>-7.47e+04</td>\n",
       "</tr>\n",
       "<tr>\n",
       "  <th>housing_median_age</th>         <td> 1341.4996</td> <td>   49.191</td> <td>   27.272</td> <td> 0.000</td> <td> 1245.081</td> <td> 1437.918</td>\n",
       "</tr>\n",
       "<tr>\n",
       "  <th>median_income</th>              <td> 5.152e+04</td> <td>  474.289</td> <td>  108.625</td> <td> 0.000</td> <td> 5.06e+04</td> <td> 5.24e+04</td>\n",
       "</tr>\n",
       "<tr>\n",
       "  <th>bedrooms_per_room</th>          <td> 4.792e+05</td> <td> 1.54e+04</td> <td>   31.055</td> <td> 0.000</td> <td> 4.49e+05</td> <td> 5.09e+05</td>\n",
       "</tr>\n",
       "<tr>\n",
       "  <th>population_per_household</th>   <td>-1.377e+04</td> <td>  493.983</td> <td>  -27.885</td> <td> 0.000</td> <td>-1.47e+04</td> <td>-1.28e+04</td>\n",
       "</tr>\n",
       "<tr>\n",
       "  <th>ocean_proximity_INLAND</th>     <td>-5.432e+04</td> <td> 1431.902</td> <td>  -37.935</td> <td> 0.000</td> <td>-5.71e+04</td> <td>-5.15e+04</td>\n",
       "</tr>\n",
       "<tr>\n",
       "  <th>ocean_proximity_NEAR BAY</th>   <td> 6639.1805</td> <td> 1847.653</td> <td>    3.593</td> <td> 0.000</td> <td> 3017.578</td> <td> 1.03e+04</td>\n",
       "</tr>\n",
       "<tr>\n",
       "  <th>total_rooms</th>                <td>    4.1652</td> <td>    0.343</td> <td>   12.136</td> <td> 0.000</td> <td>    3.492</td> <td>    4.838</td>\n",
       "</tr>\n",
       "<tr>\n",
       "  <th>ocean_proximity_NEAR OCEAN</th> <td> 1.593e+04</td> <td> 1703.050</td> <td>    9.352</td> <td> 0.000</td> <td> 1.26e+04</td> <td> 1.93e+04</td>\n",
       "</tr>\n",
       "<tr>\n",
       "  <th>ocean_proximity_ISLAND</th>     <td> 3.102e+06</td> <td> 5.81e+05</td> <td>    5.340</td> <td> 0.000</td> <td> 1.96e+06</td> <td> 4.24e+06</td>\n",
       "</tr>\n",
       "</table>\n",
       "<table class=\"simpletable\">\n",
       "<tr>\n",
       "  <th>Omnibus:</th>       <td>4609.975</td> <th>  Durbin-Watson:     </th> <td>   2.005</td> \n",
       "</tr>\n",
       "<tr>\n",
       "  <th>Prob(Omnibus):</th>  <td> 0.000</td>  <th>  Jarque-Bera (JB):  </th> <td>18739.271</td>\n",
       "</tr>\n",
       "<tr>\n",
       "  <th>Skew:</th>           <td> 1.347</td>  <th>  Prob(JB):          </th> <td>    0.00</td> \n",
       "</tr>\n",
       "<tr>\n",
       "  <th>Kurtosis:</th>       <td> 7.501</td>  <th>  Cond. No.          </th> <td>3.37e+06</td> \n",
       "</tr>\n",
       "</table><br/><br/>Notes:<br/>[1] Standard Errors assume that the covariance matrix of the errors is correctly specified.<br/>[2] The condition number is large, 3.37e+06. This might indicate that there are<br/>strong multicollinearity or other numerical problems."
      ],
      "text/plain": [
       "<class 'statsmodels.iolib.summary.Summary'>\n",
       "\"\"\"\n",
       "                            OLS Regression Results                            \n",
       "==============================================================================\n",
       "Dep. Variable:                      y   R-squared:                       0.649\n",
       "Model:                            OLS   Adj. R-squared:                  0.649\n",
       "Method:                 Least Squares   F-statistic:                     3362.\n",
       "Date:                Wed, 02 Aug 2023   Prob (F-statistic):               0.00\n",
       "Time:                        15:48:58   Log-Likelihood:            -2.0519e+05\n",
       "No. Observations:               16346   AIC:                         4.104e+05\n",
       "Df Residuals:                   16336   BIC:                         4.105e+05\n",
       "Df Model:                           9                                         \n",
       "Covariance Type:            nonrobust                                         \n",
       "==============================================================================================\n",
       "                                 coef    std err          t      P>|t|      [0.025      0.975]\n",
       "----------------------------------------------------------------------------------------------\n",
       "intercept                  -8.618e+04   5835.264    -14.769      0.000   -9.76e+04   -7.47e+04\n",
       "housing_median_age          1341.4996     49.191     27.272      0.000    1245.081    1437.918\n",
       "median_income               5.152e+04    474.289    108.625      0.000    5.06e+04    5.24e+04\n",
       "bedrooms_per_room           4.792e+05   1.54e+04     31.055      0.000    4.49e+05    5.09e+05\n",
       "population_per_household   -1.377e+04    493.983    -27.885      0.000   -1.47e+04   -1.28e+04\n",
       "ocean_proximity_INLAND     -5.432e+04   1431.902    -37.935      0.000   -5.71e+04   -5.15e+04\n",
       "ocean_proximity_NEAR BAY    6639.1805   1847.653      3.593      0.000    3017.578    1.03e+04\n",
       "total_rooms                    4.1652      0.343     12.136      0.000       3.492       4.838\n",
       "ocean_proximity_NEAR OCEAN  1.593e+04   1703.050      9.352      0.000    1.26e+04    1.93e+04\n",
       "ocean_proximity_ISLAND      3.102e+06   5.81e+05      5.340      0.000    1.96e+06    4.24e+06\n",
       "==============================================================================\n",
       "Omnibus:                     4609.975   Durbin-Watson:                   2.005\n",
       "Prob(Omnibus):                  0.000   Jarque-Bera (JB):            18739.271\n",
       "Skew:                           1.347   Prob(JB):                         0.00\n",
       "Kurtosis:                       7.501   Cond. No.                     3.37e+06\n",
       "==============================================================================\n",
       "\n",
       "Notes:\n",
       "[1] Standard Errors assume that the covariance matrix of the errors is correctly specified.\n",
       "[2] The condition number is large, 3.37e+06. This might indicate that there are\n",
       "strong multicollinearity or other numerical problems.\n",
       "\"\"\""
      ]
     },
     "execution_count": 154,
     "metadata": {},
     "output_type": "execute_result"
    }
   ],
   "source": [
    "reg_ppln_ols['estimator'].summary()"
   ]
  },
  {
   "attachments": {},
   "cell_type": "markdown",
   "metadata": {},
   "source": [
    "### 4.1.5 Model Evaluation(Linear Model)\n",
    "\n",
    "This will be part of the production code."
   ]
  },
  {
   "cell_type": "code",
   "execution_count": 155,
   "metadata": {},
   "outputs": [],
   "source": [
    "reg_ppln = Pipeline([\n",
    "    ('Linear Regression', SKLStatsmodelOLS())\n",
    "])\n",
    "\n",
    "# test_X = get_dataframe(\n",
    "#     features_transformer.transform(test_X), \n",
    "#     get_feature_names_from_column_transformer(features_transformer)\n",
    "# )\n",
    "test_X = test_X[curated_columns]"
   ]
  },
  {
   "cell_type": "code",
   "execution_count": 156,
   "metadata": {},
   "outputs": [
    {
     "data": {
      "text/html": [
       "<div>\n",
       "<style scoped>\n",
       "    .dataframe tbody tr th:only-of-type {\n",
       "        vertical-align: middle;\n",
       "    }\n",
       "\n",
       "    .dataframe tbody tr th {\n",
       "        vertical-align: top;\n",
       "    }\n",
       "\n",
       "    .dataframe thead th {\n",
       "        text-align: right;\n",
       "    }\n",
       "</style>\n",
       "<table border=\"1\" class=\"dataframe\">\n",
       "  <thead>\n",
       "    <tr style=\"text-align: right;\">\n",
       "      <th></th>\n",
       "      <th>housing_median_age</th>\n",
       "      <th>median_income</th>\n",
       "      <th>bedrooms_per_room</th>\n",
       "      <th>population_per_household</th>\n",
       "      <th>population</th>\n",
       "      <th>longitude</th>\n",
       "      <th>rooms_per_household</th>\n",
       "      <th>ocean_proximity_INLAND</th>\n",
       "      <th>ocean_proximity_NEAR BAY</th>\n",
       "      <th>total_rooms</th>\n",
       "      <th>ocean_proximity_NEAR OCEAN</th>\n",
       "      <th>ocean_proximity_ISLAND</th>\n",
       "      <th>latitude</th>\n",
       "    </tr>\n",
       "  </thead>\n",
       "  <tbody>\n",
       "    <tr>\n",
       "      <th>17971</th>\n",
       "      <td>20.0</td>\n",
       "      <td>6.7578</td>\n",
       "      <td>0.172635</td>\n",
       "      <td>2.338156</td>\n",
       "      <td>1293.0</td>\n",
       "      <td>-122.06</td>\n",
       "      <td>6.211573</td>\n",
       "      <td>0</td>\n",
       "      <td>0</td>\n",
       "      <td>3435.0</td>\n",
       "      <td>0</td>\n",
       "      <td>0</td>\n",
       "      <td>37.34</td>\n",
       "    </tr>\n",
       "    <tr>\n",
       "      <th>8014</th>\n",
       "      <td>41.0</td>\n",
       "      <td>3.2778</td>\n",
       "      <td>0.223022</td>\n",
       "      <td>3.787770</td>\n",
       "      <td>1053.0</td>\n",
       "      <td>-118.21</td>\n",
       "      <td>4.500000</td>\n",
       "      <td>0</td>\n",
       "      <td>0</td>\n",
       "      <td>1251.0</td>\n",
       "      <td>1</td>\n",
       "      <td>0</td>\n",
       "      <td>33.80</td>\n",
       "    </tr>\n",
       "    <tr>\n",
       "      <th>8226</th>\n",
       "      <td>37.0</td>\n",
       "      <td>5.3046</td>\n",
       "      <td>0.212142</td>\n",
       "      <td>1.913594</td>\n",
       "      <td>1661.0</td>\n",
       "      <td>-118.13</td>\n",
       "      <td>5.028802</td>\n",
       "      <td>0</td>\n",
       "      <td>0</td>\n",
       "      <td>4365.0</td>\n",
       "      <td>1</td>\n",
       "      <td>0</td>\n",
       "      <td>33.77</td>\n",
       "    </tr>\n",
       "    <tr>\n",
       "      <th>8277</th>\n",
       "      <td>26.0</td>\n",
       "      <td>3.2708</td>\n",
       "      <td>0.249855</td>\n",
       "      <td>2.797030</td>\n",
       "      <td>1130.0</td>\n",
       "      <td>-118.35</td>\n",
       "      <td>4.269802</td>\n",
       "      <td>0</td>\n",
       "      <td>0</td>\n",
       "      <td>1725.0</td>\n",
       "      <td>0</td>\n",
       "      <td>0</td>\n",
       "      <td>33.97</td>\n",
       "    </tr>\n",
       "    <tr>\n",
       "      <th>13065</th>\n",
       "      <td>25.0</td>\n",
       "      <td>3.6250</td>\n",
       "      <td>0.192554</td>\n",
       "      <td>3.388889</td>\n",
       "      <td>1098.0</td>\n",
       "      <td>-117.70</td>\n",
       "      <td>5.305556</td>\n",
       "      <td>1</td>\n",
       "      <td>0</td>\n",
       "      <td>1719.0</td>\n",
       "      <td>0</td>\n",
       "      <td>0</td>\n",
       "      <td>34.09</td>\n",
       "    </tr>\n",
       "    <tr>\n",
       "      <th>...</th>\n",
       "      <td>...</td>\n",
       "      <td>...</td>\n",
       "      <td>...</td>\n",
       "      <td>...</td>\n",
       "      <td>...</td>\n",
       "      <td>...</td>\n",
       "      <td>...</td>\n",
       "      <td>...</td>\n",
       "      <td>...</td>\n",
       "      <td>...</td>\n",
       "      <td>...</td>\n",
       "      <td>...</td>\n",
       "      <td>...</td>\n",
       "    </tr>\n",
       "    <tr>\n",
       "      <th>10208</th>\n",
       "      <td>8.0</td>\n",
       "      <td>8.1117</td>\n",
       "      <td>0.128642</td>\n",
       "      <td>3.344103</td>\n",
       "      <td>2070.0</td>\n",
       "      <td>-117.77</td>\n",
       "      <td>7.873990</td>\n",
       "      <td>0</td>\n",
       "      <td>0</td>\n",
       "      <td>4874.0</td>\n",
       "      <td>0</td>\n",
       "      <td>0</td>\n",
       "      <td>33.88</td>\n",
       "    </tr>\n",
       "    <tr>\n",
       "      <th>12330</th>\n",
       "      <td>20.0</td>\n",
       "      <td>1.6395</td>\n",
       "      <td>0.241449</td>\n",
       "      <td>3.745875</td>\n",
       "      <td>1135.0</td>\n",
       "      <td>-114.68</td>\n",
       "      <td>4.920792</td>\n",
       "      <td>1</td>\n",
       "      <td>0</td>\n",
       "      <td>1491.0</td>\n",
       "      <td>0</td>\n",
       "      <td>0</td>\n",
       "      <td>33.49</td>\n",
       "    </tr>\n",
       "    <tr>\n",
       "      <th>3867</th>\n",
       "      <td>36.0</td>\n",
       "      <td>4.5648</td>\n",
       "      <td>0.216114</td>\n",
       "      <td>3.014652</td>\n",
       "      <td>823.0</td>\n",
       "      <td>-118.52</td>\n",
       "      <td>4.864469</td>\n",
       "      <td>0</td>\n",
       "      <td>0</td>\n",
       "      <td>1328.0</td>\n",
       "      <td>0</td>\n",
       "      <td>0</td>\n",
       "      <td>34.21</td>\n",
       "    </tr>\n",
       "    <tr>\n",
       "      <th>12595</th>\n",
       "      <td>41.0</td>\n",
       "      <td>6.3406</td>\n",
       "      <td>0.141638</td>\n",
       "      <td>2.693215</td>\n",
       "      <td>913.0</td>\n",
       "      <td>-121.39</td>\n",
       "      <td>7.601770</td>\n",
       "      <td>1</td>\n",
       "      <td>0</td>\n",
       "      <td>2577.0</td>\n",
       "      <td>0</td>\n",
       "      <td>0</td>\n",
       "      <td>38.58</td>\n",
       "    </tr>\n",
       "    <tr>\n",
       "      <th>3677</th>\n",
       "      <td>19.0</td>\n",
       "      <td>2.2234</td>\n",
       "      <td>0.363817</td>\n",
       "      <td>4.764706</td>\n",
       "      <td>3483.0</td>\n",
       "      <td>-118.39</td>\n",
       "      <td>2.752394</td>\n",
       "      <td>0</td>\n",
       "      <td>0</td>\n",
       "      <td>2012.0</td>\n",
       "      <td>0</td>\n",
       "      <td>0</td>\n",
       "      <td>34.20</td>\n",
       "    </tr>\n",
       "  </tbody>\n",
       "</table>\n",
       "<p>4087 rows × 13 columns</p>\n",
       "</div>"
      ],
      "text/plain": [
       "       housing_median_age  median_income  bedrooms_per_room  \\\n",
       "17971                20.0         6.7578           0.172635   \n",
       "8014                 41.0         3.2778           0.223022   \n",
       "8226                 37.0         5.3046           0.212142   \n",
       "8277                 26.0         3.2708           0.249855   \n",
       "13065                25.0         3.6250           0.192554   \n",
       "...                   ...            ...                ...   \n",
       "10208                 8.0         8.1117           0.128642   \n",
       "12330                20.0         1.6395           0.241449   \n",
       "3867                 36.0         4.5648           0.216114   \n",
       "12595                41.0         6.3406           0.141638   \n",
       "3677                 19.0         2.2234           0.363817   \n",
       "\n",
       "       population_per_household  population  longitude  rooms_per_household  \\\n",
       "17971                  2.338156      1293.0    -122.06             6.211573   \n",
       "8014                   3.787770      1053.0    -118.21             4.500000   \n",
       "8226                   1.913594      1661.0    -118.13             5.028802   \n",
       "8277                   2.797030      1130.0    -118.35             4.269802   \n",
       "13065                  3.388889      1098.0    -117.70             5.305556   \n",
       "...                         ...         ...        ...                  ...   \n",
       "10208                  3.344103      2070.0    -117.77             7.873990   \n",
       "12330                  3.745875      1135.0    -114.68             4.920792   \n",
       "3867                   3.014652       823.0    -118.52             4.864469   \n",
       "12595                  2.693215       913.0    -121.39             7.601770   \n",
       "3677                   4.764706      3483.0    -118.39             2.752394   \n",
       "\n",
       "       ocean_proximity_INLAND  ocean_proximity_NEAR BAY  total_rooms  \\\n",
       "17971                       0                         0       3435.0   \n",
       "8014                        0                         0       1251.0   \n",
       "8226                        0                         0       4365.0   \n",
       "8277                        0                         0       1725.0   \n",
       "13065                       1                         0       1719.0   \n",
       "...                       ...                       ...          ...   \n",
       "10208                       0                         0       4874.0   \n",
       "12330                       1                         0       1491.0   \n",
       "3867                        0                         0       1328.0   \n",
       "12595                       1                         0       2577.0   \n",
       "3677                        0                         0       2012.0   \n",
       "\n",
       "       ocean_proximity_NEAR OCEAN  ocean_proximity_ISLAND  latitude  \n",
       "17971                           0                       0     37.34  \n",
       "8014                            1                       0     33.80  \n",
       "8226                            1                       0     33.77  \n",
       "8277                            0                       0     33.97  \n",
       "13065                           0                       0     34.09  \n",
       "...                           ...                     ...       ...  \n",
       "10208                           0                       0     33.88  \n",
       "12330                           0                       0     33.49  \n",
       "3867                            0                       0     34.21  \n",
       "12595                           0                       0     38.58  \n",
       "3677                            0                       0     34.20  \n",
       "\n",
       "[4087 rows x 13 columns]"
      ]
     },
     "execution_count": 156,
     "metadata": {},
     "output_type": "execute_result"
    }
   ],
   "source": [
    "test_X"
   ]
  },
  {
   "cell_type": "code",
   "execution_count": 157,
   "metadata": {},
   "outputs": [
    {
     "data": {
      "text/plain": [
       "['housing_median_age',\n",
       " 'median_income',\n",
       " 'bedrooms_per_room',\n",
       " 'population_per_household',\n",
       " 'population',\n",
       " 'longitude',\n",
       " 'rooms_per_household',\n",
       " 'ocean_proximity_INLAND',\n",
       " 'ocean_proximity_NEAR BAY',\n",
       " 'total_rooms',\n",
       " 'ocean_proximity_NEAR OCEAN',\n",
       " 'ocean_proximity_ISLAND',\n",
       " 'latitude']"
      ]
     },
     "execution_count": 157,
     "metadata": {},
     "output_type": "execute_result"
    }
   ],
   "source": [
    "curated_columns"
   ]
  },
  {
   "attachments": {},
   "cell_type": "markdown",
   "metadata": {},
   "source": [
    "**Dev Notes**\n",
    "Use SHAP for variable interpretability.\n",
    "<details>\n",
    "\n",
    "    1. Use SHAP=True to generate variable interpretability plots in the report\n",
    "    2. SHAP is recommended for non parameteric models such as RF, xgboost.\n",
    "    3. However, SHAP reports are time consuming depending on no.of records and model complexity.\n",
    "    \n",
    "A sample of regerssion report with SHAP can be found [here](https://drive.google.com/file/d/18RlQTsT1ze09Cgz-qpb4ha_cvyWbN5F5/view?usp=sharing).\n",
    "</details>"
   ]
  },
  {
   "attachments": {},
   "cell_type": "markdown",
   "metadata": {},
   "source": [
    "### 4.1.6 Residual Analysis\n",
    "- After scoring the model, it is recommended to do a residual analysis to know the distribution of errors\n",
    "- we took a threshold of 30% above which it is marked as over prediction or underprediction\n",
    "- This will not be part of the production code."
   ]
  },
  {
   "cell_type": "code",
   "execution_count": 159,
   "metadata": {},
   "outputs": [],
   "source": [
    "threshold=0.3\n",
    "residual_analysis = test_X.copy()\n",
    "residual_analysis['prediction'] = reg_ppln_ols.predict(test_X)\n",
    "residual_analysis['actuals'] = test_y.reset_index(drop = True).iloc[:,0].values\n",
    "residual_analysis['forecast_flag'] = 'good'\n",
    "residual_analysis.loc[((residual_analysis['prediction'] > (1+threshold) * residual_analysis['actuals'])\\\n",
    "                       & (residual_analysis['actuals']>100)),'forecast_flag'] = 'over predict'\n",
    "residual_analysis.loc[((residual_analysis['prediction'] < (1-threshold) * residual_analysis['actuals'])\\\n",
    "                       & (residual_analysis['actuals']>100)),'forecast_flag'] = 'under predict'"
   ]
  },
  {
   "attachments": {},
   "cell_type": "markdown",
   "metadata": {},
   "source": [
    "- From the above plot we can infer that the higher \"over predictions\" are happening for unit_cost > 200.\n",
    "- similarly, the higher \"under predictions\" are happening for unit_cost is zero.\n",
    "\n",
    "This can help us tune the model by a separate model for unit_cost > 200\n"
   ]
  },
  {
   "attachments": {},
   "cell_type": "markdown",
   "metadata": {},
   "source": [
    "# 4.2 Modelling - XGBoost"
   ]
  },
  {
   "attachments": {},
   "cell_type": "markdown",
   "metadata": {},
   "source": [
    "## 4.2.1 Model training pipeline\n",
    "\n",
    "Here we focus on creating a collection of pipelines that can be used for tranining respective models.\n",
    "\n",
    "Each model pipeline will essentially be of the form\n",
    "```\n",
    "[\n",
    "('preprocessing', preprocessing_pipeline),\n",
    "('feature_selection', feature_selection_pipeline),\n",
    "('estimator', estimator),\n",
    "]\n",
    "```"
   ]
  },
  {
   "attachments": {},
   "cell_type": "markdown",
   "metadata": {},
   "source": [
    "### 4.2.2 Model Pipeline Build"
   ]
  },
  {
   "cell_type": "code",
   "execution_count": 161,
   "metadata": {},
   "outputs": [
    {
     "data": {
      "text/html": [
       "<style>#sk-container-id-6 {color: black;background-color: white;}#sk-container-id-6 pre{padding: 0;}#sk-container-id-6 div.sk-toggleable {background-color: white;}#sk-container-id-6 label.sk-toggleable__label {cursor: pointer;display: block;width: 100%;margin-bottom: 0;padding: 0.3em;box-sizing: border-box;text-align: center;}#sk-container-id-6 label.sk-toggleable__label-arrow:before {content: \"▸\";float: left;margin-right: 0.25em;color: #696969;}#sk-container-id-6 label.sk-toggleable__label-arrow:hover:before {color: black;}#sk-container-id-6 div.sk-estimator:hover label.sk-toggleable__label-arrow:before {color: black;}#sk-container-id-6 div.sk-toggleable__content {max-height: 0;max-width: 0;overflow: hidden;text-align: left;background-color: #f0f8ff;}#sk-container-id-6 div.sk-toggleable__content pre {margin: 0.2em;color: black;border-radius: 0.25em;background-color: #f0f8ff;}#sk-container-id-6 input.sk-toggleable__control:checked~div.sk-toggleable__content {max-height: 200px;max-width: 100%;overflow: auto;}#sk-container-id-6 input.sk-toggleable__control:checked~label.sk-toggleable__label-arrow:before {content: \"▾\";}#sk-container-id-6 div.sk-estimator input.sk-toggleable__control:checked~label.sk-toggleable__label {background-color: #d4ebff;}#sk-container-id-6 div.sk-label input.sk-toggleable__control:checked~label.sk-toggleable__label {background-color: #d4ebff;}#sk-container-id-6 input.sk-hidden--visually {border: 0;clip: rect(1px 1px 1px 1px);clip: rect(1px, 1px, 1px, 1px);height: 1px;margin: -1px;overflow: hidden;padding: 0;position: absolute;width: 1px;}#sk-container-id-6 div.sk-estimator {font-family: monospace;background-color: #f0f8ff;border: 1px dotted black;border-radius: 0.25em;box-sizing: border-box;margin-bottom: 0.5em;}#sk-container-id-6 div.sk-estimator:hover {background-color: #d4ebff;}#sk-container-id-6 div.sk-parallel-item::after {content: \"\";width: 100%;border-bottom: 1px solid gray;flex-grow: 1;}#sk-container-id-6 div.sk-label:hover label.sk-toggleable__label {background-color: #d4ebff;}#sk-container-id-6 div.sk-serial::before {content: \"\";position: absolute;border-left: 1px solid gray;box-sizing: border-box;top: 0;bottom: 0;left: 50%;z-index: 0;}#sk-container-id-6 div.sk-serial {display: flex;flex-direction: column;align-items: center;background-color: white;padding-right: 0.2em;padding-left: 0.2em;position: relative;}#sk-container-id-6 div.sk-item {position: relative;z-index: 1;}#sk-container-id-6 div.sk-parallel {display: flex;align-items: stretch;justify-content: center;background-color: white;position: relative;}#sk-container-id-6 div.sk-item::before, #sk-container-id-6 div.sk-parallel-item::before {content: \"\";position: absolute;border-left: 1px solid gray;box-sizing: border-box;top: 0;bottom: 0;left: 50%;z-index: -1;}#sk-container-id-6 div.sk-parallel-item {display: flex;flex-direction: column;z-index: 1;position: relative;background-color: white;}#sk-container-id-6 div.sk-parallel-item:first-child::after {align-self: flex-end;width: 50%;}#sk-container-id-6 div.sk-parallel-item:last-child::after {align-self: flex-start;width: 50%;}#sk-container-id-6 div.sk-parallel-item:only-child::after {width: 0;}#sk-container-id-6 div.sk-dashed-wrapped {border: 1px dashed gray;margin: 0 0.4em 0.5em 0.4em;box-sizing: border-box;padding-bottom: 0.4em;background-color: white;}#sk-container-id-6 div.sk-label label {font-family: monospace;font-weight: bold;display: inline-block;line-height: 1.2em;}#sk-container-id-6 div.sk-label-container {text-align: center;}#sk-container-id-6 div.sk-container {/* jupyter's `normalize.less` sets `[hidden] { display: none; }` but bootstrap.min.css set `[hidden] { display: none !important; }` so we also need the `!important` here to be able to override the default hidden behavior on the sphinx rendered scikit-learn.org. See: https://github.com/scikit-learn/scikit-learn/issues/21755 */display: inline-block !important;position: relative;}#sk-container-id-6 div.sk-text-repr-fallback {display: none;}</style><div id=\"sk-container-id-6\" class=\"sk-top-container\"><div class=\"sk-text-repr-fallback\"><pre>Pipeline(steps=[(&#x27;XGBoost&#x27;,\n",
       "                 XGBRegressor(base_score=0.5, booster=&#x27;gbtree&#x27;,\n",
       "                              colsample_bylevel=1, colsample_bynode=1,\n",
       "                              colsample_bytree=1, enable_categorical=False,\n",
       "                              gamma=0, gpu_id=-1, importance_type=None,\n",
       "                              interaction_constraints=&#x27;&#x27;,\n",
       "                              learning_rate=0.300000012, max_delta_step=0,\n",
       "                              max_depth=6, min_child_weight=1, missing=nan,\n",
       "                              monotone_constraints=&#x27;()&#x27;, n_estimators=100,\n",
       "                              n_jobs=8, num_parallel_tree=1, predictor=&#x27;auto&#x27;,\n",
       "                              random_state=0, reg_alpha=0, reg_lambda=1,\n",
       "                              scale_pos_weight=1, subsample=1,\n",
       "                              tree_method=&#x27;exact&#x27;, validate_parameters=1,\n",
       "                              verbosity=None))])</pre><b>In a Jupyter environment, please rerun this cell to show the HTML representation or trust the notebook. <br />On GitHub, the HTML representation is unable to render, please try loading this page with nbviewer.org.</b></div><div class=\"sk-container\" hidden><div class=\"sk-item sk-dashed-wrapped\"><div class=\"sk-label-container\"><div class=\"sk-label sk-toggleable\"><input class=\"sk-toggleable__control sk-hidden--visually\" id=\"sk-estimator-id-15\" type=\"checkbox\" ><label for=\"sk-estimator-id-15\" class=\"sk-toggleable__label sk-toggleable__label-arrow\">Pipeline</label><div class=\"sk-toggleable__content\"><pre>Pipeline(steps=[(&#x27;XGBoost&#x27;,\n",
       "                 XGBRegressor(base_score=0.5, booster=&#x27;gbtree&#x27;,\n",
       "                              colsample_bylevel=1, colsample_bynode=1,\n",
       "                              colsample_bytree=1, enable_categorical=False,\n",
       "                              gamma=0, gpu_id=-1, importance_type=None,\n",
       "                              interaction_constraints=&#x27;&#x27;,\n",
       "                              learning_rate=0.300000012, max_delta_step=0,\n",
       "                              max_depth=6, min_child_weight=1, missing=nan,\n",
       "                              monotone_constraints=&#x27;()&#x27;, n_estimators=100,\n",
       "                              n_jobs=8, num_parallel_tree=1, predictor=&#x27;auto&#x27;,\n",
       "                              random_state=0, reg_alpha=0, reg_lambda=1,\n",
       "                              scale_pos_weight=1, subsample=1,\n",
       "                              tree_method=&#x27;exact&#x27;, validate_parameters=1,\n",
       "                              verbosity=None))])</pre></div></div></div><div class=\"sk-serial\"><div class=\"sk-item\"><div class=\"sk-estimator sk-toggleable\"><input class=\"sk-toggleable__control sk-hidden--visually\" id=\"sk-estimator-id-16\" type=\"checkbox\" ><label for=\"sk-estimator-id-16\" class=\"sk-toggleable__label sk-toggleable__label-arrow\">XGBRegressor</label><div class=\"sk-toggleable__content\"><pre>XGBRegressor(base_score=0.5, booster=&#x27;gbtree&#x27;, colsample_bylevel=1,\n",
       "             colsample_bynode=1, colsample_bytree=1, enable_categorical=False,\n",
       "             gamma=0, gpu_id=-1, importance_type=None,\n",
       "             interaction_constraints=&#x27;&#x27;, learning_rate=0.300000012,\n",
       "             max_delta_step=0, max_depth=6, min_child_weight=1, missing=nan,\n",
       "             monotone_constraints=&#x27;()&#x27;, n_estimators=100, n_jobs=8,\n",
       "             num_parallel_tree=1, predictor=&#x27;auto&#x27;, random_state=0, reg_alpha=0,\n",
       "             reg_lambda=1, scale_pos_weight=1, subsample=1, tree_method=&#x27;exact&#x27;,\n",
       "             validate_parameters=1, verbosity=None)</pre></div></div></div></div></div></div></div>"
      ],
      "text/plain": [
       "Pipeline(steps=[('XGBoost',\n",
       "                 XGBRegressor(base_score=0.5, booster='gbtree',\n",
       "                              colsample_bylevel=1, colsample_bynode=1,\n",
       "                              colsample_bytree=1, enable_categorical=False,\n",
       "                              gamma=0, gpu_id=-1, importance_type=None,\n",
       "                              interaction_constraints='',\n",
       "                              learning_rate=0.300000012, max_delta_step=0,\n",
       "                              max_depth=6, min_child_weight=1, missing=nan,\n",
       "                              monotone_constraints='()', n_estimators=100,\n",
       "                              n_jobs=8, num_parallel_tree=1, predictor='auto',\n",
       "                              random_state=0, reg_alpha=0, reg_lambda=1,\n",
       "                              scale_pos_weight=1, subsample=1,\n",
       "                              tree_method='exact', validate_parameters=1,\n",
       "                              verbosity=None))])"
      ]
     },
     "execution_count": 161,
     "metadata": {},
     "output_type": "execute_result"
    }
   ],
   "source": [
    "# let's find features for some decent defaults\n",
    "estimator = XGBRegressor()\n",
    "xgb_training_pipe_init = Pipeline([\n",
    "    ('XGBoost', XGBRegressor())\n",
    "])\n",
    "xgb_training_pipe_init.fit(train_X, train_y)"
   ]
  },
  {
   "attachments": {},
   "cell_type": "markdown",
   "metadata": {},
   "source": [
    "### 4.2.3 Model Tuning"
   ]
  },
  {
   "cell_type": "code",
   "execution_count": 162,
   "metadata": {},
   "outputs": [
    {
     "data": {
      "text/plain": [
       "<AxesSubplot:>"
      ]
     },
     "execution_count": 162,
     "metadata": {},
     "output_type": "execute_result"
    },
    {
     "data": {
      "image/png": "[encoded data removed]",
      "text/plain": [
       "<Figure size 640x480 with 1 Axes>"
      ]
     },
     "metadata": {},
     "output_type": "display_data"
    }
   ],
   "source": [
    "# Understanding the Feature Importance\n",
    "%matplotlib inline\n",
    "imp = pd.DataFrame({'importance': xgb_training_pipe_init['XGBoost'].feature_importances_})\n",
    "imp.index = train_X.columns\n",
    "imp.sort_values('importance',inplace=True)\n",
    "imp.plot(kind='barh')"
   ]
  },
  {
   "attachments": {},
   "cell_type": "markdown",
   "metadata": {},
   "source": [
    "'condition','model_family','days_since_last_purchase','first_time_customer','sales_person', are considered to be important and in grid search"
   ]
  },
  {
   "attachments": {},
   "cell_type": "markdown",
   "metadata": {},
   "source": [
    "##### Pipeline build based on new importance features"
   ]
  },
  {
   "cell_type": "code",
   "execution_count": 163,
   "metadata": {},
   "outputs": [],
   "source": [
    "# let's find features for some decent defaults\n",
    "imp_features = ['ocean_proximity_INLAND','median_income','population_per_household','longitude','ocean_proximity_NEAR BAY','latitude']\n",
    "\n",
    "estimator = XGBRegressor()\n",
    "xgb_training_pipe2 = Pipeline([\n",
    "    ('', FunctionTransformer(_custom_data_transform, kw_args={'cols2keep':imp_features})),\n",
    "    ('XGBoost', XGBRegressor())\n",
    "])"
   ]
  },
  {
   "attachments": {},
   "cell_type": "markdown",
   "metadata": {},
   "source": [
    "#### Grid Search of the Estimator"
   ]
  },
  {
   "cell_type": "code",
   "execution_count": 164,
   "metadata": {},
   "outputs": [
    {
     "name": "stdout",
     "output_type": "stream",
     "text": [
      "Fitting 2 folds for each of 1 candidates, totalling 2 fits\n"
     ]
    },
    {
     "name": "stderr",
     "output_type": "stream",
     "text": [
      "/home/anil_tiger/miniconda3/envs/ta-lib-dev/lib/python3.9/site-packages/xgboost/compat.py:36: FutureWarning: pandas.Int64Index is deprecated and will be removed from pandas in a future version. Use pandas.Index with the appropriate dtype instead.\n",
      "  from pandas import MultiIndex, Int64Index\n",
      "/home/anil_tiger/miniconda3/envs/ta-lib-dev/lib/python3.9/site-packages/xgboost/compat.py:36: FutureWarning: pandas.Int64Index is deprecated and will be removed from pandas in a future version. Use pandas.Index with the appropriate dtype instead.\n",
      "  from pandas import MultiIndex, Int64Index\n",
      "/home/anil_tiger/miniconda3/envs/ta-lib-dev/lib/python3.9/site-packages/xgboost/data.py:262: FutureWarning: pandas.Int64Index is deprecated and will be removed from pandas in a future version. Use pandas.Index with the appropriate dtype instead.\n",
      "  elif isinstance(data.columns, (pd.Int64Index, pd.RangeIndex)):\n",
      "/home/anil_tiger/miniconda3/envs/ta-lib-dev/lib/python3.9/site-packages/xgboost/data.py:262: FutureWarning: pandas.Int64Index is deprecated and will be removed from pandas in a future version. Use pandas.Index with the appropriate dtype instead.\n",
      "  elif isinstance(data.columns, (pd.Int64Index, pd.RangeIndex)):\n"
     ]
    },
    {
     "name": "stdout",
     "output_type": "stream",
     "text": [
      "0.8239271563508344\n",
      "{'gamma': 0.03, 'learning_rate': 0.1, 'max_depth': 3, 'min_child_weight': 6, 'n_estimators': 500}\n",
      "CPU times: user 12.6 s, sys: 259 ms, total: 12.8 s\n",
      "Wall time: 4min 40s\n"
     ]
    }
   ],
   "source": [
    "%%time\n",
    "parameters = {\n",
    "   'gamma':[0.03],\n",
    "   'min_child_weight':[6],\n",
    "   'learning_rate':[0.1],\n",
    "   'max_depth':[3],\n",
    "   'n_estimators':[500], \n",
    "}\n",
    "est = XGBRegressor()\n",
    "xgb_grid = GridSearchCV(est,\n",
    "                        parameters,\n",
    "                        cv = 2,\n",
    "                        n_jobs = 4,\n",
    "                        verbose=True)\n",
    "\n",
    "xgb_grid.fit(train_X, train_y)\n",
    "\n",
    "print(xgb_grid.best_score_)\n",
    "print(xgb_grid.best_params_)"
   ]
  },
  {
   "attachments": {},
   "cell_type": "markdown",
   "metadata": {},
   "source": [
    "#### Pipeline Build using the best estimator"
   ]
  },
  {
   "cell_type": "code",
   "execution_count": 165,
   "metadata": {},
   "outputs": [
    {
     "data": {
      "text/html": [
       "<style>#sk-container-id-7 {color: black;background-color: white;}#sk-container-id-7 pre{padding: 0;}#sk-container-id-7 div.sk-toggleable {background-color: white;}#sk-container-id-7 label.sk-toggleable__label {cursor: pointer;display: block;width: 100%;margin-bottom: 0;padding: 0.3em;box-sizing: border-box;text-align: center;}#sk-container-id-7 label.sk-toggleable__label-arrow:before {content: \"▸\";float: left;margin-right: 0.25em;color: #696969;}#sk-container-id-7 label.sk-toggleable__label-arrow:hover:before {color: black;}#sk-container-id-7 div.sk-estimator:hover label.sk-toggleable__label-arrow:before {color: black;}#sk-container-id-7 div.sk-toggleable__content {max-height: 0;max-width: 0;overflow: hidden;text-align: left;background-color: #f0f8ff;}#sk-container-id-7 div.sk-toggleable__content pre {margin: 0.2em;color: black;border-radius: 0.25em;background-color: #f0f8ff;}#sk-container-id-7 input.sk-toggleable__control:checked~div.sk-toggleable__content {max-height: 200px;max-width: 100%;overflow: auto;}#sk-container-id-7 input.sk-toggleable__control:checked~label.sk-toggleable__label-arrow:before {content: \"▾\";}#sk-container-id-7 div.sk-estimator input.sk-toggleable__control:checked~label.sk-toggleable__label {background-color: #d4ebff;}#sk-container-id-7 div.sk-label input.sk-toggleable__control:checked~label.sk-toggleable__label {background-color: #d4ebff;}#sk-container-id-7 input.sk-hidden--visually {border: 0;clip: rect(1px 1px 1px 1px);clip: rect(1px, 1px, 1px, 1px);height: 1px;margin: -1px;overflow: hidden;padding: 0;position: absolute;width: 1px;}#sk-container-id-7 div.sk-estimator {font-family: monospace;background-color: #f0f8ff;border: 1px dotted black;border-radius: 0.25em;box-sizing: border-box;margin-bottom: 0.5em;}#sk-container-id-7 div.sk-estimator:hover {background-color: #d4ebff;}#sk-container-id-7 div.sk-parallel-item::after {content: \"\";width: 100%;border-bottom: 1px solid gray;flex-grow: 1;}#sk-container-id-7 div.sk-label:hover label.sk-toggleable__label {background-color: #d4ebff;}#sk-container-id-7 div.sk-serial::before {content: \"\";position: absolute;border-left: 1px solid gray;box-sizing: border-box;top: 0;bottom: 0;left: 50%;z-index: 0;}#sk-container-id-7 div.sk-serial {display: flex;flex-direction: column;align-items: center;background-color: white;padding-right: 0.2em;padding-left: 0.2em;position: relative;}#sk-container-id-7 div.sk-item {position: relative;z-index: 1;}#sk-container-id-7 div.sk-parallel {display: flex;align-items: stretch;justify-content: center;background-color: white;position: relative;}#sk-container-id-7 div.sk-item::before, #sk-container-id-7 div.sk-parallel-item::before {content: \"\";position: absolute;border-left: 1px solid gray;box-sizing: border-box;top: 0;bottom: 0;left: 50%;z-index: -1;}#sk-container-id-7 div.sk-parallel-item {display: flex;flex-direction: column;z-index: 1;position: relative;background-color: white;}#sk-container-id-7 div.sk-parallel-item:first-child::after {align-self: flex-end;width: 50%;}#sk-container-id-7 div.sk-parallel-item:last-child::after {align-self: flex-start;width: 50%;}#sk-container-id-7 div.sk-parallel-item:only-child::after {width: 0;}#sk-container-id-7 div.sk-dashed-wrapped {border: 1px dashed gray;margin: 0 0.4em 0.5em 0.4em;box-sizing: border-box;padding-bottom: 0.4em;background-color: white;}#sk-container-id-7 div.sk-label label {font-family: monospace;font-weight: bold;display: inline-block;line-height: 1.2em;}#sk-container-id-7 div.sk-label-container {text-align: center;}#sk-container-id-7 div.sk-container {/* jupyter's `normalize.less` sets `[hidden] { display: none; }` but bootstrap.min.css set `[hidden] { display: none !important; }` so we also need the `!important` here to be able to override the default hidden behavior on the sphinx rendered scikit-learn.org. See: https://github.com/scikit-learn/scikit-learn/issues/21755 */display: inline-block !important;position: relative;}#sk-container-id-7 div.sk-text-repr-fallback {display: none;}</style><div id=\"sk-container-id-7\" class=\"sk-top-container\"><div class=\"sk-text-repr-fallback\"><pre>Pipeline(steps=[(&#x27;&#x27;,\n",
       "                 FunctionTransformer(func=&lt;function _custom_data_transform at 0x7f2be6047670&gt;,\n",
       "                                     kw_args={&#x27;cols2keep&#x27;: [&#x27;ocean_proximity_INLAND&#x27;,\n",
       "                                                            &#x27;median_income&#x27;,\n",
       "                                                            &#x27;population_per_household&#x27;,\n",
       "                                                            &#x27;longitude&#x27;,\n",
       "                                                            &#x27;ocean_proximity_NEAR &#x27;\n",
       "                                                            &#x27;BAY&#x27;,\n",
       "                                                            &#x27;latitude&#x27;]})),\n",
       "                (&#x27;XGBoost&#x27;,\n",
       "                 XGBRegressor(base_score=0.5, booster=&#x27;gbtree&#x27;,\n",
       "                              colsample_bylevel=1, colsample_bynode=1,\n",
       "                              colsample_bytree...\n",
       "                              gamma=0.03, gpu_id=-1, importance_type=None,\n",
       "                              interaction_constraints=&#x27;&#x27;, learning_rate=0.1,\n",
       "                              max_delta_step=0, max_depth=3, min_child_weight=6,\n",
       "                              missing=nan, monotone_constraints=&#x27;()&#x27;,\n",
       "                              n_estimators=500, n_jobs=8, num_parallel_tree=1,\n",
       "                              predictor=&#x27;auto&#x27;, random_state=0, reg_alpha=0,\n",
       "                              reg_lambda=1, scale_pos_weight=1, subsample=1,\n",
       "                              tree_method=&#x27;exact&#x27;, validate_parameters=1,\n",
       "                              verbosity=None))])</pre><b>In a Jupyter environment, please rerun this cell to show the HTML representation or trust the notebook. <br />On GitHub, the HTML representation is unable to render, please try loading this page with nbviewer.org.</b></div><div class=\"sk-container\" hidden><div class=\"sk-item sk-dashed-wrapped\"><div class=\"sk-label-container\"><div class=\"sk-label sk-toggleable\"><input class=\"sk-toggleable__control sk-hidden--visually\" id=\"sk-estimator-id-17\" type=\"checkbox\" ><label for=\"sk-estimator-id-17\" class=\"sk-toggleable__label sk-toggleable__label-arrow\">Pipeline</label><div class=\"sk-toggleable__content\"><pre>Pipeline(steps=[(&#x27;&#x27;,\n",
       "                 FunctionTransformer(func=&lt;function _custom_data_transform at 0x7f2be6047670&gt;,\n",
       "                                     kw_args={&#x27;cols2keep&#x27;: [&#x27;ocean_proximity_INLAND&#x27;,\n",
       "                                                            &#x27;median_income&#x27;,\n",
       "                                                            &#x27;population_per_household&#x27;,\n",
       "                                                            &#x27;longitude&#x27;,\n",
       "                                                            &#x27;ocean_proximity_NEAR &#x27;\n",
       "                                                            &#x27;BAY&#x27;,\n",
       "                                                            &#x27;latitude&#x27;]})),\n",
       "                (&#x27;XGBoost&#x27;,\n",
       "                 XGBRegressor(base_score=0.5, booster=&#x27;gbtree&#x27;,\n",
       "                              colsample_bylevel=1, colsample_bynode=1,\n",
       "                              colsample_bytree...\n",
       "                              gamma=0.03, gpu_id=-1, importance_type=None,\n",
       "                              interaction_constraints=&#x27;&#x27;, learning_rate=0.1,\n",
       "                              max_delta_step=0, max_depth=3, min_child_weight=6,\n",
       "                              missing=nan, monotone_constraints=&#x27;()&#x27;,\n",
       "                              n_estimators=500, n_jobs=8, num_parallel_tree=1,\n",
       "                              predictor=&#x27;auto&#x27;, random_state=0, reg_alpha=0,\n",
       "                              reg_lambda=1, scale_pos_weight=1, subsample=1,\n",
       "                              tree_method=&#x27;exact&#x27;, validate_parameters=1,\n",
       "                              verbosity=None))])</pre></div></div></div><div class=\"sk-serial\"><div class=\"sk-item\"><div class=\"sk-estimator sk-toggleable\"><input class=\"sk-toggleable__control sk-hidden--visually\" id=\"sk-estimator-id-18\" type=\"checkbox\" ><label for=\"sk-estimator-id-18\" class=\"sk-toggleable__label sk-toggleable__label-arrow\">FunctionTransformer</label><div class=\"sk-toggleable__content\"><pre>FunctionTransformer(func=&lt;function _custom_data_transform at 0x7f2be6047670&gt;,\n",
       "                    kw_args={&#x27;cols2keep&#x27;: [&#x27;ocean_proximity_INLAND&#x27;,\n",
       "                                           &#x27;median_income&#x27;,\n",
       "                                           &#x27;population_per_household&#x27;,\n",
       "                                           &#x27;longitude&#x27;,\n",
       "                                           &#x27;ocean_proximity_NEAR BAY&#x27;,\n",
       "                                           &#x27;latitude&#x27;]})</pre></div></div></div><div class=\"sk-item\"><div class=\"sk-estimator sk-toggleable\"><input class=\"sk-toggleable__control sk-hidden--visually\" id=\"sk-estimator-id-19\" type=\"checkbox\" ><label for=\"sk-estimator-id-19\" class=\"sk-toggleable__label sk-toggleable__label-arrow\">XGBRegressor</label><div class=\"sk-toggleable__content\"><pre>XGBRegressor(base_score=0.5, booster=&#x27;gbtree&#x27;, colsample_bylevel=1,\n",
       "             colsample_bynode=1, colsample_bytree=1, enable_categorical=False,\n",
       "             gamma=0.03, gpu_id=-1, importance_type=None,\n",
       "             interaction_constraints=&#x27;&#x27;, learning_rate=0.1, max_delta_step=0,\n",
       "             max_depth=3, min_child_weight=6, missing=nan,\n",
       "             monotone_constraints=&#x27;()&#x27;, n_estimators=500, n_jobs=8,\n",
       "             num_parallel_tree=1, predictor=&#x27;auto&#x27;, random_state=0, reg_alpha=0,\n",
       "             reg_lambda=1, scale_pos_weight=1, subsample=1, tree_method=&#x27;exact&#x27;,\n",
       "             validate_parameters=1, verbosity=None)</pre></div></div></div></div></div></div></div>"
      ],
      "text/plain": [
       "Pipeline(steps=[('',\n",
       "                 FunctionTransformer(func=<function _custom_data_transform at 0x7f2be6047670>,\n",
       "                                     kw_args={'cols2keep': ['ocean_proximity_INLAND',\n",
       "                                                            'median_income',\n",
       "                                                            'population_per_household',\n",
       "                                                            'longitude',\n",
       "                                                            'ocean_proximity_NEAR '\n",
       "                                                            'BAY',\n",
       "                                                            'latitude']})),\n",
       "                ('XGBoost',\n",
       "                 XGBRegressor(base_score=0.5, booster='gbtree',\n",
       "                              colsample_bylevel=1, colsample_bynode=1,\n",
       "                              colsample_bytree...\n",
       "                              gamma=0.03, gpu_id=-1, importance_type=None,\n",
       "                              interaction_constraints='', learning_rate=0.1,\n",
       "                              max_delta_step=0, max_depth=3, min_child_weight=6,\n",
       "                              missing=nan, monotone_constraints='()',\n",
       "                              n_estimators=500, n_jobs=8, num_parallel_tree=1,\n",
       "                              predictor='auto', random_state=0, reg_alpha=0,\n",
       "                              reg_lambda=1, scale_pos_weight=1, subsample=1,\n",
       "                              tree_method='exact', validate_parameters=1,\n",
       "                              verbosity=None))])"
      ]
     },
     "execution_count": 165,
     "metadata": {},
     "output_type": "execute_result"
    }
   ],
   "source": [
    "xgb_pipeline_final = Pipeline([\n",
    "    ('', FunctionTransformer(_custom_data_transform, kw_args={'cols2keep':imp_features})),\n",
    "    ('XGBoost', xgb_grid.best_estimator_)\n",
    "])\n",
    "xgb_pipeline_final.fit(train_X, train_y)"
   ]
  },
  {
   "cell_type": "code",
   "execution_count": 166,
   "metadata": {},
   "outputs": [],
   "source": [
    "reg_tree_report = RegressionReport(model=xgb_pipeline_final, x_train=train_X, y_train=train_y, x_test= test_X, y_test= test_y)\n",
    "reg_tree_report.get_report(include_shap=False, file_path='regression_tree_model_report')"
   ]
  }
 ],
 "metadata": {
  "kernelspec": {
   "display_name": "Python 3 (ipykernel)",
   "language": "python",
   "name": "python3"
  },
  "language_info": {
   "codemirror_mode": {
    "name": "ipython",
    "version": 3
   },
   "file_extension": ".py",
   "mimetype": "text/x-python",
   "name": "python",
   "nbconvert_exporter": "python",
   "pygments_lexer": "ipython3",
   "version": "3.9.17"
  }
 },
 "nbformat": 4,
 "nbformat_minor": 4
}
